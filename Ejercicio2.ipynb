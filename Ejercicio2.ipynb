{
 "cells": [
  {
   "cell_type": "markdown",
   "metadata": {},
   "source": [
    "\n",
    "\n",
    "<img src=\"./logo_UTN.svg\" align=\"right\" width=\"150\" /> \n",
    " Medidas Electrónica I\n",
    "\n",
    "# Ejercicios Calculo de Incertidumbre\n",
    "#### Israel Pavelek \n",
    "Prof: Perdomo Juan\n"
   ]
  },
  {
   "cell_type": "markdown",
   "metadata": {},
   "source": [
    "Ejercicio 2:"
   ]
  },
  {
   "cell_type": "code",
   "execution_count": 1,
   "metadata": {},
   "outputs": [
    {
     "name": "stdout",
     "output_type": "stream",
     "text": [
      "V1m= 2.3634 V\n",
      "V2m= 0.538 V\n",
      "DeltaVm= 1.8254\n",
      "S(V1)= 0.20673848214592266 V\n",
      "S(V2)= 0.03346640106136302 V\n",
      "ua(V1)= 0.09245625992868194 V\n",
      "ua(V2)= 0.014966629547095763 V\n"
     ]
    }
   ],
   "source": [
    "import numpy as np\n",
    "import statistics\n",
    "from sympy import Derivative, diff, simplify, symbols,S\n",
    "\n",
    "V1=[2.404,2.502,2.603,2.104,2.204]\n",
    "V2=[0.54,0.58,0.51,0.50,0.56]\n",
    "N=len(V1)\n",
    "V1m=np.mean(V1)\n",
    "V2m=np.mean(V2)\n",
    "DeltaVm=V1m-V2m\n",
    "SV1=statistics.stdev(V1)\n",
    "SV2=statistics.stdev(V2)\n",
    "uaV1=SV1/np.sqrt(N)\n",
    "uaV2=SV2/np.sqrt(N)\n",
    "print('V1m=',V1m,'V') \n",
    "print('V2m=',V2m,'V') \n",
    "print('DeltaVm=',DeltaVm) \n",
    "print('S(V1)=',SV1,'V') \n",
    "print('S(V2)=',SV2,'V') \n",
    "print('ua(V1)=',uaV1,'V') \n",
    "print('ua(V2)=',uaV2,'V')\n"
   ]
  },
  {
   "cell_type": "markdown",
   "metadata": {},
   "source": [
    "## Tipo B"
   ]
  },
  {
   "cell_type": "code",
   "execution_count": 2,
   "metadata": {},
   "outputs": [
    {
     "name": "stdout",
     "output_type": "stream",
     "text": [
      "ub(V1)= 0.014799992263891995 V\n",
      "ub(V2)= 0.024995671833479997 V\n"
     ]
    }
   ],
   "source": [
    "DELTAV1=(1/100+2/2363)*V1m\n",
    "ubV1=(DELTAV1/np.sqrt(3))\n",
    "DELTAV2=(0.5/100+4/53)*V2m\n",
    "ubV2=(DELTAV2/np.sqrt(3))\n",
    "print('ub(V1)=',ubV1,'V') \n",
    "print('ub(V2)=',ubV2,'V')\n"
   ]
  },
  {
   "cell_type": "markdown",
   "metadata": {},
   "source": [
    "## Combinando\n"
   ]
  },
  {
   "cell_type": "code",
   "execution_count": 3,
   "metadata": {},
   "outputs": [
    {
     "name": "stdout",
     "output_type": "stream",
     "text": [
      "uc(V1)= 0.09363332617722848 V\n",
      "uc(V2)= 0.029133891096230612 V\n"
     ]
    }
   ],
   "source": [
    "ucV1=np.sqrt(ubV1**2+uaV1**2)\n",
    "ucV2=np.sqrt(ubV2**2+uaV2**2)\n",
    "\n",
    "print('uc(V1)=',ucV1,'V')\n",
    "print('uc(V2)=',ucV2,'V')\n",
    "V1v = symbols('V1')\n",
    "V2v = symbols('V2')\n",
    "DeltaV = V1v-V2v\n",
    "\n",
    "\n"
   ]
  },
  {
   "cell_type": "markdown",
   "metadata": {},
   "source": [
    "$ \\frac{\\partial{\\Delta V}}{\\partial{V1}} = $"
   ]
  },
  {
   "cell_type": "code",
   "execution_count": 4,
   "metadata": {},
   "outputs": [
    {
     "data": {
      "text/latex": [
       "$\\displaystyle 1$"
      ],
      "text/plain": [
       "1"
      ]
     },
     "execution_count": 4,
     "metadata": {},
     "output_type": "execute_result"
    }
   ],
   "source": [
    "demV1 = Derivative(DeltaV, V1v,1).doit()\n",
    "demV1=simplify(demV1)\n",
    "demV1"
   ]
  },
  {
   "cell_type": "markdown",
   "metadata": {},
   "source": [
    "$ \\frac{\\partial{\\Delta V}}{\\partial{V2}} = $"
   ]
  },
  {
   "cell_type": "code",
   "execution_count": 5,
   "metadata": {},
   "outputs": [
    {
     "data": {
      "text/latex": [
       "$\\displaystyle -1$"
      ],
      "text/plain": [
       "-1"
      ]
     },
     "execution_count": 5,
     "metadata": {},
     "output_type": "execute_result"
    }
   ],
   "source": [
    "demV2 = Derivative(DeltaV, V2v,1).doit()\n",
    "demV2=simplify(demV2)\n",
    "demV2"
   ]
  },
  {
   "cell_type": "code",
   "execution_count": 6,
   "metadata": {},
   "outputs": [
    {
     "name": "stdout",
     "output_type": "stream",
     "text": [
      "demV1= 1 -\n",
      "demV2= -1 -\n"
     ]
    }
   ],
   "source": [
    "demV1c=1\n",
    "demV2c=-1\n",
    "print('demV1=',demV1c,'-')\n",
    "print('demV2=',demV2c,'-')\n",
    "\n"
   ]
  },
  {
   "cell_type": "code",
   "execution_count": 7,
   "metadata": {},
   "outputs": [
    {
     "name": "stdout",
     "output_type": "stream",
     "text": [
      "0.09806112064125255\n"
     ]
    }
   ],
   "source": [
    "udeltav=np.sqrt((demV1c**2)*(ucV1**2)+(demV2c**2)*(ucV2**2))\n",
    "print(udeltav)"
   ]
  },
  {
   "cell_type": "code",
   "execution_count": 8,
   "metadata": {},
   "outputs": [
    {
     "name": "stdout",
     "output_type": "stream",
     "text": [
      "4.76731633858747\n"
     ]
    }
   ],
   "source": [
    "Veff=udeltav**4/(((demV1**4)*ucV1**4+(demV2**4)*ucV2**4)/(N-1))\n",
    "print(Veff)"
   ]
  },
  {
   "cell_type": "markdown",
   "metadata": {},
   "source": [
    "De la tabla para Tipo A dominante tomamos "
   ]
  },
  {
   "cell_type": "code",
   "execution_count": 9,
   "metadata": {},
   "outputs": [
    {
     "name": "stdout",
     "output_type": "stream",
     "text": [
      "0.25986196969931924\n"
     ]
    }
   ],
   "source": [
    "K=2.65\n",
    "U=udeltav*K\n",
    "print(U)"
   ]
  },
  {
   "cell_type": "code",
   "execution_count": 10,
   "metadata": {},
   "outputs": [
    {
     "name": "stdout",
     "output_type": "stream",
     "text": [
      "DeltaV=( 1.82 ± 0.26 )V\n"
     ]
    }
   ],
   "source": [
    "U=U.round(2)\n",
    "aux=DeltaVm.round(3)\n",
    "DeltaVm=DeltaVm.round(2)\n",
    "if((aux*1000)%10>4):\n",
    "    DeltaVm=DeltaVm-0.01\n",
    "print(f\"DeltaV=(\",DeltaVm,\"±\",U,\")V\")\n"
   ]
  },
  {
   "cell_type": "markdown",
   "metadata": {},
   "source": [
    "K=2,65 con el 95,45% de nivel de confianza"
   ]
  },
  {
   "cell_type": "code",
   "execution_count": null,
   "metadata": {},
   "outputs": [],
   "source": []
  },
  {
   "cell_type": "code",
   "execution_count": null,
   "metadata": {},
   "outputs": [],
   "source": []
  },
  {
   "cell_type": "code",
   "execution_count": null,
   "metadata": {},
   "outputs": [],
   "source": []
  },
  {
   "cell_type": "code",
   "execution_count": null,
   "metadata": {},
   "outputs": [],
   "source": []
  }
 ],
 "metadata": {
  "kernelspec": {
   "display_name": "Python 3",
   "language": "python",
   "name": "python3"
  },
  "language_info": {
   "codemirror_mode": {
    "name": "ipython",
    "version": 3
   },
   "file_extension": ".py",
   "mimetype": "text/x-python",
   "name": "python",
   "nbconvert_exporter": "python",
   "pygments_lexer": "ipython3",
   "version": "3.8.8"
  }
 },
 "nbformat": 4,
 "nbformat_minor": 4
}
