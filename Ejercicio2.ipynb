{
 "cells": [
  {
   "cell_type": "markdown",
   "metadata": {},
   "source": [
    "\n",
    "\n",
    "<img src=\"./logo_UTN.svg\" align=\"right\" width=\"150\" /> \n",
    " Medidas Electrónica I\n",
    "\n",
    "# Ejercicios Calculo de Incertidumbre\n",
    "#### Israel Pavelek \n",
    "Prof: Perdomo Juan\n"
   ]
  },
  {
   "cell_type": "markdown",
   "metadata": {},
   "source": [
    "Ejercicio 2:"
   ]
  },
  {
   "cell_type": "code",
   "execution_count": 45,
   "metadata": {},
   "outputs": [
    {
     "name": "stdout",
     "output_type": "stream",
     "text": [
      "V1n= 2.3634 V\n",
      "V2n= 0.538 V\n",
      "DeltaVn= 1.8254\n",
      "S(V1)= 0.20673848214592266 V\n",
      "S(V2)= 0.03346640106136302 V\n",
      "ua(V1)= 0.09245625992868194 V\n",
      "ua(V2)= 0.014966629547095763 V\n"
     ]
    }
   ],
   "source": [
    "import numpy as np\n",
    "import statistics\n",
    "from sympy import Derivative, diff, simplify, symbols,S\n",
    "\n",
    "\n",
    "\n",
    "\n",
    "V1=[2.404,2.502,2.603,2.104,2.204]\n",
    "V2=[0.54,0.58,0.51,0.50,0.56]\n",
    "N=len(V1)\n",
    "V1n=np.mean(V1)\n",
    "V2n=np.mean(V2)\n",
    "DeltaVn=V1n-V2n\n",
    "SV1=statistics.stdev(V1)\n",
    "SV2=statistics.stdev(V2)\n",
    "uaV1=SV1/np.sqrt(N)\n",
    "uaV2=SV2/np.sqrt(N)\n",
    "print('V1n=',V1n,'V') \n",
    "print('V2n=',V2n,'V') \n",
    "print('DeltaVn=',DeltaVn) \n",
    "print('S(V1)=',SV1,'V') \n",
    "print('S(V2)=',SV2,'V') \n",
    "print('ua(V1)=',uaV1,'V') \n",
    "print('ua(V2)=',uaV2,'V')\n"
   ]
  },
  {
   "cell_type": "markdown",
   "metadata": {},
   "source": [
    "## Tipo B"
   ]
  },
  {
   "cell_type": "code",
   "execution_count": 46,
   "metadata": {},
   "outputs": [
    {
     "name": "stdout",
     "output_type": "stream",
     "text": [
      "ub(V1)= 0.014799992263891995 V\n",
      "ub(V2)= 0.024995671833479997 V\n"
     ]
    }
   ],
   "source": [
    "DELTAV1=(1/100+2/2363)*V1n\n",
    "ubV1=(DELTAV1/np.sqrt(3))\n",
    "DELTAV2=(0.5/100+4/53)*V2n\n",
    "ubV2=(DELTAV2/np.sqrt(3))\n",
    "print('ub(V1)=',ubV1,'V') \n",
    "print('ub(V2)=',ubV2,'V')\n"
   ]
  },
  {
   "cell_type": "markdown",
   "metadata": {},
   "source": [
    "## Combinando\n"
   ]
  },
  {
   "cell_type": "code",
   "execution_count": 47,
   "metadata": {},
   "outputs": [
    {
     "name": "stdout",
     "output_type": "stream",
     "text": [
      "uc(V1)= 0.09363332617722848 V\n",
      "uc(V2)= 0.029133891096230612 V\n",
      "Correlacion(V1,V2)= 0.20032395944652798\n"
     ]
    }
   ],
   "source": [
    "ucV1=np.sqrt(ubV1**2+uaV1**2)\n",
    "ucV2=np.sqrt(ubV2**2+uaV2**2)\n",
    "corre=np.corrcoef(V1,V2)\n",
    "corre=corre[0][1]\n",
    "print('uc(V1)=',ucV1,'V')\n",
    "print('uc(V2)=',ucV2,'V')\n",
    "print('Correlacion(V1,V2)=',corre)\n",
    "V1v = symbols('V1')\n",
    "V2v = symbols('V2')\n",
    "DeltaV = V1v-V2v\n",
    "\n",
    "\n"
   ]
  },
  {
   "cell_type": "markdown",
   "metadata": {},
   "source": [
    "$ \\frac{\\partial{\\Delta V}}{\\partial{V1}} = $"
   ]
  },
  {
   "cell_type": "code",
   "execution_count": 48,
   "metadata": {},
   "outputs": [
    {
     "data": {
      "text/latex": [
       "$\\displaystyle 1$"
      ],
      "text/plain": [
       "1"
      ]
     },
     "execution_count": 48,
     "metadata": {},
     "output_type": "execute_result"
    }
   ],
   "source": [
    "demV1 = Derivative(DeltaV, V1v,1).doit()\n",
    "demV1"
   ]
  },
  {
   "cell_type": "markdown",
   "metadata": {},
   "source": [
    "$ \\frac{\\partial{\\Delta V}}{\\partial{V2}} = $"
   ]
  },
  {
   "cell_type": "code",
   "execution_count": 49,
   "metadata": {},
   "outputs": [
    {
     "data": {
      "text/latex": [
       "$\\displaystyle -1$"
      ],
      "text/plain": [
       "-1"
      ]
     },
     "execution_count": 49,
     "metadata": {},
     "output_type": "execute_result"
    }
   ],
   "source": [
    "demV2 = Derivative(DeltaV, V2v,1).doit()\n",
    "demV2"
   ]
  },
  {
   "cell_type": "code",
   "execution_count": 50,
   "metadata": {},
   "outputs": [
    {
     "name": "stdout",
     "output_type": "stream",
     "text": [
      "demV1= 1 -\n",
      "demV2= -1 -\n"
     ]
    }
   ],
   "source": [
    "demV1c=1\n",
    "demV2c=-1\n",
    "print('demV1=',demV1c,'-')\n",
    "print('demV2=',demV2c,'-')\n",
    "\n"
   ]
  },
  {
   "cell_type": "code",
   "execution_count": 51,
   "metadata": {},
   "outputs": [
    {
     "name": "stdout",
     "output_type": "stream",
     "text": [
      "0.09806112064125255\n"
     ]
    }
   ],
   "source": [
    "udeltav=np.sqrt((demV1c**2)*(ucV1**2)+(demV2c**2)*(ucV2**2))\n",
    "print(udeltav)"
   ]
  },
  {
   "cell_type": "code",
   "execution_count": 52,
   "metadata": {},
   "outputs": [
    {
     "name": "stdout",
     "output_type": "stream",
     "text": [
      "5.058293186407982\n"
     ]
    }
   ],
   "source": [
    "veff=udeltav**4/((((demV1c*uaV1)**4)/4)+(((demV2c*uaV2)**4)/4))\n",
    "print(veff)"
   ]
  },
  {
   "cell_type": "code",
   "execution_count": 53,
   "metadata": {},
   "outputs": [
    {
     "name": "stdout",
     "output_type": "stream",
     "text": [
      "0.23926913436465622\n"
     ]
    }
   ],
   "source": [
    "K=2.44\n",
    "U=udeltav*K\n",
    "print(U)"
   ]
  },
  {
   "cell_type": "code",
   "execution_count": 57,
   "metadata": {},
   "outputs": [
    {
     "name": "stdout",
     "output_type": "stream",
     "text": [
      "DeltaV= (1.82±0.24)V\n"
     ]
    }
   ],
   "source": [
    "U=U.round(2)\n",
    "print(f\"DeltaV= (1.82±{U:.2f})V\")"
   ]
  },
  {
   "cell_type": "markdown",
   "metadata": {},
   "source": [
    "K=2,44 con el 95,45% de nivel de confianza"
   ]
  },
  {
   "cell_type": "code",
   "execution_count": null,
   "metadata": {},
   "outputs": [],
   "source": []
  },
  {
   "cell_type": "code",
   "execution_count": null,
   "metadata": {},
   "outputs": [],
   "source": []
  }
 ],
 "metadata": {
  "kernelspec": {
   "display_name": "Python 3",
   "language": "python",
   "name": "python3"
  },
  "language_info": {
   "codemirror_mode": {
    "name": "ipython",
    "version": 3
   },
   "file_extension": ".py",
   "mimetype": "text/x-python",
   "name": "python",
   "nbconvert_exporter": "python",
   "pygments_lexer": "ipython3",
   "version": "3.8.5"
  }
 },
 "nbformat": 4,
 "nbformat_minor": 4
}
