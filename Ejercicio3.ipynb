{
 "cells": [
  {
   "cell_type": "markdown",
   "metadata": {},
   "source": [
    "\n",
    "\n",
    "<img src=\"./logo_UTN.svg\" align=\"right\" width=\"150\" /> \n",
    " Medidas Electrónica I\n",
    "\n",
    "# Ejercicios Calculo de Incertidumbre\n",
    "#### Israel Pavelek \n",
    "Prof: Perdomo Juan\n"
   ]
  },
  {
   "cell_type": "markdown",
   "metadata": {},
   "source": [
    "### Ejercicio 2:"
   ]
  },
  {
   "cell_type": "code",
   "execution_count": 11,
   "metadata": {},
   "outputs": [
    {
     "name": "stdout",
     "output_type": "stream",
     "text": [
      "Titan= 30.028 º\n",
      "Voffn= 20.03 V\n",
      "Voutn= 23.95597982662949 V\n",
      "ua(Tita)= 0.0005831665285319452 º\n",
      "ua(Voff)= 0.007070446944854336 V\n"
     ]
    }
   ],
   "source": [
    "import numpy as np\n",
    "import statistics\n",
    "from sympy import Derivative, diff, simplify, symbols,S,sin\n",
    "\n",
    "N=5\n",
    "Titan=30.028\n",
    "Voffn=20.03\n",
    "a_s=0.8 #v/g\n",
    "g=9.80665 #m/s^2\n",
    "Voutn=Voffn+a_s*g*np.sin(Titan*np.pi/180)\n",
    "STita=0.001304\n",
    "SVoff=0.01581\n",
    "uaTita=STita/np.sqrt(N)\n",
    "uaVoff=SVoff/np.sqrt(N)\n",
    "print('Titan=',Titan,'º') \n",
    "print('Voffn=',Voffn,'V') \n",
    "print('Voutn=',Voutn,'V') \n",
    "print('ua(Tita)=',uaTita,'º') \n",
    "print('ua(Voff)=',uaVoff,'V')\n"
   ]
  },
  {
   "cell_type": "markdown",
   "metadata": {},
   "source": [
    "## Tipo B"
   ]
  },
  {
   "cell_type": "code",
   "execution_count": 39,
   "metadata": {},
   "outputs": [
    {
     "name": "stdout",
     "output_type": "stream",
     "text": [
      "ub(Tita)= 0.30601180847803894 V\n",
      "ub(Voff)= 0.10399407723762426 V\n"
     ]
    }
   ],
   "source": [
    "DELTATita=(((0.1/100)*Titan)+0.5)\n",
    "ubTita=(DELTATita/np.sqrt(3))\n",
    "DELTAVoff=((0.5/100)+(2/2003))*Titan\n",
    "ubVoff=(DELTAVoff/np.sqrt(3))\n",
    "print('ub(Tita)=',ubTita,'V') \n",
    "print('ub(Voff)=',ubVoff,'V')\n"
   ]
  },
  {
   "cell_type": "markdown",
   "metadata": {},
   "source": [
    "## Combinando\n"
   ]
  },
  {
   "cell_type": "code",
   "execution_count": 40,
   "metadata": {},
   "outputs": [
    {
     "name": "stdout",
     "output_type": "stream",
     "text": [
      "uc(Tita)= 0.30601236414759453 º\n",
      "uc(Voff)= 0.10423415620853348 V\n"
     ]
    }
   ],
   "source": [
    "ucTita=np.sqrt(ubTita**2+uaTita**2)\n",
    "ucVoff=np.sqrt(ubVoff**2+uaVoff**2)\n",
    "print('uc(Tita)=',ucTita,'º')\n",
    "print('uc(Voff)=',ucVoff,'V')\n",
    "Titav = symbols('Tita')\n",
    "Voffv = symbols('Voff')\n",
    "DeltaVout = Voffv+a_s*g*sin(Titav)\n",
    "\n",
    "\n"
   ]
  },
  {
   "cell_type": "markdown",
   "metadata": {},
   "source": [
    "$ \\frac{\\partial{\\Delta Vout}}{\\partial{\\theta}} = $"
   ]
  },
  {
   "cell_type": "code",
   "execution_count": 41,
   "metadata": {},
   "outputs": [
    {
     "data": {
      "text/latex": [
       "$\\displaystyle 7.84532 \\cos{\\left(Tita \\right)}$"
      ],
      "text/plain": [
       "7.84532*cos(Tita)"
      ]
     },
     "execution_count": 41,
     "metadata": {},
     "output_type": "execute_result"
    }
   ],
   "source": [
    "dvoutTita = Derivative(DeltaVout,Titav,1).doit()\n",
    "dvoutTita"
   ]
  },
  {
   "cell_type": "markdown",
   "metadata": {},
   "source": [
    "$ \\frac{\\partial{\\Delta Vout}}{\\partial{Voff}} = $"
   ]
  },
  {
   "cell_type": "code",
   "execution_count": 42,
   "metadata": {},
   "outputs": [
    {
     "data": {
      "text/latex": [
       "$\\displaystyle 1$"
      ],
      "text/plain": [
       "1"
      ]
     },
     "execution_count": 42,
     "metadata": {},
     "output_type": "execute_result"
    }
   ],
   "source": [
    "dvoutVoff = Derivative(DeltaVout, Voffv,1).doit()\n",
    "dvoutVoff"
   ]
  },
  {
   "cell_type": "code",
   "execution_count": 43,
   "metadata": {},
   "outputs": [
    {
     "name": "stdout",
     "output_type": "stream",
     "text": [
      "dvoutTita= 6.792328636285075 V/º\n",
      "dvoutVoff= 1 [-]\n"
     ]
    }
   ],
   "source": [
    "dvoutTitac=7.84532*np.cos(Titan*np.pi/180)\n",
    "dvoutVoffc=1\n",
    "print('dvoutTita=',dvoutTitac,'V/º')\n",
    "print('dvoutVoff=',dvoutVoffc,'[-]')\n",
    "\n"
   ]
  },
  {
   "cell_type": "code",
   "execution_count": 44,
   "metadata": {},
   "outputs": [
    {
     "name": "stdout",
     "output_type": "stream",
     "text": [
      "2.0811484628206927\n"
     ]
    }
   ],
   "source": [
    "uvout=np.sqrt((dvoutTitac**2)*(ucTita**2)+(dvoutVoffc**2)*(ucVoff**2))\n",
    "print(uvout)"
   ]
  },
  {
   "cell_type": "code",
   "execution_count": 45,
   "metadata": {},
   "outputs": [
    {
     "name": "stdout",
     "output_type": "stream",
     "text": [
      "524.7417221430533\n",
      "Tipo B dominante\n",
      "buscar en la tabla: 0.0019056994285035782\n",
      "14.708274886824249\n",
      "Tipo B dominante\n",
      "buscar en la tabla: 0.06798893872290933\n"
     ]
    }
   ],
   "source": [
    "relacion1=ubTita/uaTita\n",
    "relacion2=ubVoff/uaVoff\n",
    "if(relacion1 >2):\n",
    "    print(relacion1)\n",
    "    print(\"Tipo B dominante\")\n",
    "    print(\"buscar en la tabla:\", 1/relacion1)\n",
    "    \n",
    "if(relacion2 >2):\n",
    "    print(relacion2)\n",
    "    print(\"Tipo B dominante\")    \n",
    "    print(\"buscar en la tabla:\", 1/relacion2)"
   ]
  },
  {
   "cell_type": "code",
   "execution_count": 49,
   "metadata": {},
   "outputs": [
    {
     "name": "stdout",
     "output_type": "stream",
     "text": [
      "4.162296925641385\n"
     ]
    }
   ],
   "source": [
    "K=2\n",
    "U=uvout*K\n",
    "print(U)"
   ]
  },
  {
   "cell_type": "code",
   "execution_count": 51,
   "metadata": {},
   "outputs": [
    {
     "name": "stdout",
     "output_type": "stream",
     "text": [
      "Voutn=(23.9±4.2)V\n"
     ]
    }
   ],
   "source": [
    "U=U.round(1)\n",
    "print(f\"Voutn=(23.9±{U:.1f})V\")"
   ]
  },
  {
   "cell_type": "markdown",
   "metadata": {},
   "source": [
    "K=2 con el 95,45% de nivel de confianza"
   ]
  },
  {
   "cell_type": "code",
   "execution_count": null,
   "metadata": {},
   "outputs": [],
   "source": []
  }
 ],
 "metadata": {
  "kernelspec": {
   "display_name": "Python 3",
   "language": "python",
   "name": "python3"
  },
  "language_info": {
   "codemirror_mode": {
    "name": "ipython",
    "version": 3
   },
   "file_extension": ".py",
   "mimetype": "text/x-python",
   "name": "python",
   "nbconvert_exporter": "python",
   "pygments_lexer": "ipython3",
   "version": "3.8.5"
  }
 },
 "nbformat": 4,
 "nbformat_minor": 4
}
