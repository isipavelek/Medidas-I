{
 "cells": [
  {
   "cell_type": "markdown",
   "metadata": {},
   "source": [
    "\n",
    "\n",
    "<img src=\"./logo_UTN.svg\" align=\"right\" width=\"150\" /> \n",
    " Medidas Electrónica I\n",
    "\n",
    "# Ejercicios Calculo de Incertidumbre\n",
    "#### Israel Pavelek \n",
    "Prof: Perdomo Juan\n"
   ]
  },
  {
   "cell_type": "markdown",
   "metadata": {},
   "source": [
    "Ejercicio 1:"
   ]
  },
  {
   "cell_type": "code",
   "execution_count": 43,
   "metadata": {},
   "outputs": [
    {
     "name": "stdout",
     "output_type": "stream",
     "text": [
      "R1n= 2.028 Ω\n",
      "R2n= 0.526 Ω\n",
      "emn= -0.35019973368841545\n",
      "S(R1)= 0.011661903789690672 Ω\n",
      "S(R2)= 0.01019803902718558 Ω\n",
      "ua(R1)= 0.00521536192416215 Ω\n",
      "ua(R2)= 0.004560701700396556 Ω\n"
     ]
    }
   ],
   "source": [
    "import numpy as np\n",
    "from sympy import Derivative, diff, simplify, symbols,S\n",
    "\n",
    "from IPython.display import display, Math, Latex\n",
    "\n",
    "\n",
    "\n",
    "\n",
    "R1=[2.01,2.04,2.03,2.02,2.04]\n",
    "R2=[0.53,0.54,0.52,0.51,0.53]\n",
    "N=len(R1)\n",
    "R1n=np.mean(R1)\n",
    "R2n=np.mean(R2)\n",
    "emn=R2n/(R2n-R1n)\n",
    "SR1=np.std(R1)\n",
    "SR2=np.std(R2)\n",
    "uaR1=SR1/np.sqrt(N)\n",
    "uaR2=SR2/np.sqrt(N)\n",
    "print('R1n=',R1n,'Ω') \n",
    "print('R2n=',R2n,'Ω') \n",
    "print('emn=',emn) \n",
    "print('S(R1)=',SR1,'Ω') \n",
    "print('S(R2)=',SR2,'Ω') \n",
    "print('ua(R1)=',uaR1,'Ω') \n",
    "print('ua(R2)=',uaR2,'Ω')\n"
   ]
  },
  {
   "cell_type": "markdown",
   "metadata": {},
   "source": [
    "## Tipo B"
   ]
  },
  {
   "cell_type": "code",
   "execution_count": 44,
   "metadata": {},
   "outputs": [
    {
     "name": "stdout",
     "output_type": "stream",
     "text": [
      "ub(R1)= 0.017447067827766578 Ω\n",
      "ub(R2)= 0.013198671269266531 Ω\n"
     ]
    }
   ],
   "source": [
    "DELTAR1=(0.5/100+2/202)*R1n\n",
    "ubR1=(DELTAR1/np.sqrt(3))\n",
    "DELTAR2=(0.5/100+2/52)*R2n\n",
    "ubR2=(DELTAR2/np.sqrt(3))\n",
    "print('ub(R1)=',ubR1,'Ω') \n",
    "print('ub(R2)=',ubR2,'Ω')\n"
   ]
  },
  {
   "cell_type": "markdown",
   "metadata": {},
   "source": [
    "## Combinando\n"
   ]
  },
  {
   "cell_type": "code",
   "execution_count": 45,
   "metadata": {},
   "outputs": [
    {
     "name": "stdout",
     "output_type": "stream",
     "text": [
      "uc(R1)= 0.018209892250825865 Ω\n",
      "uc(R2)= 0.013964416324149099 Ω\n",
      "Correlacion(R1,R2)= 0.43723731609760164\n"
     ]
    }
   ],
   "source": [
    "ucR1=np.sqrt(ubR1**2+uaR1**2)\n",
    "ucR2=np.sqrt(ubR2**2+uaR2**2)\n",
    "corre=np.corrcoef(R1,R2)\n",
    "corre=corre[0][1]\n",
    "print('uc(R1)=',ucR1,'Ω')\n",
    "print('uc(R2)=',ucR2,'Ω')\n",
    "print('Correlacion(R1,R2)=',corre)\n",
    "R1v = Symbol('R1')\n",
    "R2v = Symbol('R2')\n",
    "em = R2v/(R2v-R1v)\n",
    "\n",
    "\n"
   ]
  },
  {
   "cell_type": "markdown",
   "metadata": {},
   "source": [
    "$ \\frac{\\partial{em}}{\\partial{R1}} = $"
   ]
  },
  {
   "cell_type": "code",
   "execution_count": 46,
   "metadata": {},
   "outputs": [
    {
     "data": {
      "text/latex": [
       "$\\displaystyle \\frac{R_{2}}{\\left(- R_{1} + R_{2}\\right)^{2}}$"
      ],
      "text/plain": [
       "R2/(-R1 + R2)**2"
      ]
     },
     "execution_count": 46,
     "metadata": {},
     "output_type": "execute_result"
    }
   ],
   "source": [
    "demR1 = Derivative(em, R1v,1).doit()\n",
    "demR1"
   ]
  },
  {
   "cell_type": "markdown",
   "metadata": {},
   "source": [
    "$ \\frac{\\partial{em}}{\\partial{R2}} = $"
   ]
  },
  {
   "cell_type": "code",
   "execution_count": 47,
   "metadata": {},
   "outputs": [
    {
     "data": {
      "text/latex": [
       "$\\displaystyle - \\frac{R_{2}}{\\left(- R_{1} + R_{2}\\right)^{2}} + \\frac{1}{- R_{1} + R_{2}}$"
      ],
      "text/plain": [
       "-R2/(-R1 + R2)**2 + 1/(-R1 + R2)"
      ]
     },
     "execution_count": 47,
     "metadata": {},
     "output_type": "execute_result"
    }
   ],
   "source": [
    "demR2 = Derivative(em, R2v,1).doit()\n",
    "demR2"
   ]
  },
  {
   "cell_type": "code",
   "execution_count": 48,
   "metadata": {},
   "outputs": [
    {
     "name": "stdout",
     "output_type": "stream",
     "text": [
      "demR1= 0.2331556149723139 1/Ω\n",
      "demR2= -0.8989345763571341 1/Ω\n"
     ]
    }
   ],
   "source": [
    "demR1c=R2n/((-R1n+R2n)**2)\n",
    "demR2c=-(R2n/((-R1n+R2n)**2))+(1/(R2n-R1n))\n",
    "print('demR1=',demR1c,'1/Ω')\n",
    "print('demR2=',demR2c,'1/Ω')\n",
    "\n"
   ]
  },
  {
   "cell_type": "code",
   "execution_count": 58,
   "metadata": {},
   "outputs": [
    {
     "name": "stdout",
     "output_type": "stream",
     "text": [
      "0.011357795194130042\n"
     ]
    }
   ],
   "source": [
    "uem=np.sqrt((demR1c**2)*(ucR1**2)+(demR2c**2)*(ucR2**2)+2*demR1c*demR2c*ucR1*ucR2*corre)\n",
    "print(uem)"
   ]
  },
  {
   "cell_type": "code",
   "execution_count": 60,
   "metadata": {},
   "outputs": [
    {
     "name": "stdout",
     "output_type": "stream",
     "text": [
      "0.020216875445551476\n"
     ]
    }
   ],
   "source": [
    "K=1.78\n",
    "U=uem*K\n",
    "print(U)"
   ]
  },
  {
   "cell_type": "code",
   "execution_count": null,
   "metadata": {},
   "outputs": [],
   "source": []
  }
 ],
 "metadata": {
  "kernelspec": {
   "display_name": "Python 3",
   "language": "python",
   "name": "python3"
  },
  "language_info": {
   "codemirror_mode": {
    "name": "ipython",
    "version": 3
   },
   "file_extension": ".py",
   "mimetype": "text/x-python",
   "name": "python",
   "nbconvert_exporter": "python",
   "pygments_lexer": "ipython3",
   "version": "3.8.5"
  }
 },
 "nbformat": 4,
 "nbformat_minor": 4
}
