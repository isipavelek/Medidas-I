{
 "cells": [
  {
   "cell_type": "markdown",
   "metadata": {},
   "source": [
    "\n",
    "\n",
    "<img src=\"./logo_UTN.svg\" align=\"right\" width=\"150\" /> \n",
    " Medidas Electrónica I\n",
    "\n",
    "# Ejercicios Calculo de Incertidumbre\n",
    "#### Israel Pavelek \n",
    "Prof: Perdomo Juan\n"
   ]
  },
  {
   "cell_type": "markdown",
   "metadata": {},
   "source": [
    "### Ejercicio 3:"
   ]
  },
  {
   "cell_type": "code",
   "execution_count": 1,
   "metadata": {},
   "outputs": [
    {
     "name": "stdout",
     "output_type": "stream",
     "text": [
      "Titam= 30.028 º\n",
      "Voffm= 20.03 V\n",
      "Voutm= 20.43033852810384 V\n",
      "ua(Tita)= 0.0005831665285319452 º\n",
      "ua(Voff)= 0.007070446944854336 V\n"
     ]
    }
   ],
   "source": [
    "import numpy as np\n",
    "import statistics\n",
    "from sympy import Derivative, diff, simplify, symbols,S,sin\n",
    "\n",
    "N=5\n",
    "Titam=30.028\n",
    "Voffm=20.03\n",
    "a_s=0.8 #v/g\n",
    "g=9.80665 #m/s^2\n",
    "Voutm=Voffm+a_s*np.sin(Titam*np.pi/180)\n",
    "STita=0.001304\n",
    "SVoff=0.01581\n",
    "uaTita=STita/np.sqrt(N)\n",
    "uaVoff=SVoff/np.sqrt(N)\n",
    "print('Titam=',Titam,'º') \n",
    "print('Voffm=',Voffm,'V') \n",
    "print('Voutm=',Voutm,'V') \n",
    "print('ua(Tita)=',uaTita,'º') \n",
    "print('ua(Voff)=',uaVoff,'V')\n"
   ]
  },
  {
   "cell_type": "markdown",
   "metadata": {},
   "source": [
    "## Tipo B"
   ]
  },
  {
   "cell_type": "code",
   "execution_count": 2,
   "metadata": {},
   "outputs": [
    {
     "name": "stdout",
     "output_type": "stream",
     "text": [
      "ub(Tita)= 0.30601180847803894 V\n",
      "ub(Voff)= 0.06936863484313355 V\n"
     ]
    }
   ],
   "source": [
    "DELTATita=(((0.1/100)*Titam)+0.5)\n",
    "ubTita=(DELTATita/np.sqrt(3))\n",
    "DELTAVoff=((0.5/100)+(2/2003))*Voffm\n",
    "ubVoff=(DELTAVoff/np.sqrt(3))\n",
    "print('ub(Tita)=',ubTita,'V') \n",
    "print('ub(Voff)=',ubVoff,'V')\n"
   ]
  },
  {
   "cell_type": "markdown",
   "metadata": {},
   "source": [
    "## Combinando\n"
   ]
  },
  {
   "cell_type": "code",
   "execution_count": 3,
   "metadata": {},
   "outputs": [
    {
     "name": "stdout",
     "output_type": "stream",
     "text": [
      "uc(Tita)= 0.30601236414759453 º\n",
      "uc(Voff)= 0.0697280339605241 V\n"
     ]
    }
   ],
   "source": [
    "ucTita=np.sqrt(ubTita**2+uaTita**2)\n",
    "ucVoff=np.sqrt(ubVoff**2+uaVoff**2)\n",
    "print('uc(Tita)=',ucTita,'º')\n",
    "print('uc(Voff)=',ucVoff,'V')\n",
    "Titav = symbols('Tita')\n",
    "Voffv = symbols('Voff')\n",
    "DeltaVout = Voffv+a_s*sin(Titav)\n",
    "\n",
    "\n"
   ]
  },
  {
   "cell_type": "markdown",
   "metadata": {},
   "source": [
    "$ \\frac{\\partial{\\Delta Vout}}{\\partial{\\theta}} = $"
   ]
  },
  {
   "cell_type": "code",
   "execution_count": 4,
   "metadata": {},
   "outputs": [
    {
     "data": {
      "text/latex": [
       "$\\displaystyle 0.8 \\cos{\\left(Tita \\right)}$"
      ],
      "text/plain": [
       "0.8*cos(Tita)"
      ]
     },
     "execution_count": 4,
     "metadata": {},
     "output_type": "execute_result"
    }
   ],
   "source": [
    "dvoutTita = Derivative(DeltaVout,Titav,1).doit()\n",
    "dvoutTita=simplify(dvoutTita)\n",
    "dvoutTita"
   ]
  },
  {
   "cell_type": "markdown",
   "metadata": {},
   "source": [
    "$ \\frac{\\partial{\\Delta Vout}}{\\partial{Voff}} = $"
   ]
  },
  {
   "cell_type": "code",
   "execution_count": 5,
   "metadata": {},
   "outputs": [
    {
     "data": {
      "text/latex": [
       "$\\displaystyle 1$"
      ],
      "text/plain": [
       "1"
      ]
     },
     "execution_count": 5,
     "metadata": {},
     "output_type": "execute_result"
    }
   ],
   "source": [
    "dvoutVoff = Derivative(DeltaVout, Voffv,1).doit()\n",
    "dvoutVoff=simplify(dvoutVoff)\n",
    "dvoutVoff"
   ]
  },
  {
   "cell_type": "code",
   "execution_count": 6,
   "metadata": {},
   "outputs": [
    {
     "name": "stdout",
     "output_type": "stream",
     "text": [
      "dvoutTita= 0.6926247634294153 V/º\n",
      "dvoutVoff= 1 [-]\n"
     ]
    }
   ],
   "source": [
    "dvoutTitac=0.8*np.cos(Titam*np.pi/180)\n",
    "dvoutVoffc=1\n",
    "print('dvoutTita=',dvoutTitac,'V/º')\n",
    "print('dvoutVoff=',dvoutVoffc,'[-]')\n",
    "\n"
   ]
  },
  {
   "cell_type": "code",
   "execution_count": 7,
   "metadata": {},
   "outputs": [
    {
     "name": "stdout",
     "output_type": "stream",
     "text": [
      "0.22312673387642767\n"
     ]
    }
   ],
   "source": [
    "uvout=np.sqrt((dvoutTitac**2)*(ucTita**2)+(dvoutVoffc**2)*(ucVoff**2))\n",
    "print(uvout)"
   ]
  },
  {
   "cell_type": "code",
   "execution_count": 8,
   "metadata": {},
   "outputs": [
    {
     "name": "stdout",
     "output_type": "stream",
     "text": [
      "0.44625346775285535\n"
     ]
    }
   ],
   "source": [
    "K=2\n",
    "U=uvout*K\n",
    "print(U)"
   ]
  },
  {
   "cell_type": "code",
   "execution_count": 9,
   "metadata": {},
   "outputs": [
    {
     "name": "stdout",
     "output_type": "stream",
     "text": [
      "Vout=(20.43±0.45)V\n"
     ]
    }
   ],
   "source": [
    "U=U.round(2)\n",
    "print(f\"Vout=({Voutm:.2f}±{U:.2f})V\")"
   ]
  },
  {
   "cell_type": "markdown",
   "metadata": {},
   "source": [
    "K=2 con el 95,45% de nivel de confianza"
   ]
  },
  {
   "cell_type": "code",
   "execution_count": null,
   "metadata": {},
   "outputs": [],
   "source": []
  },
  {
   "cell_type": "code",
   "execution_count": null,
   "metadata": {},
   "outputs": [],
   "source": []
  }
 ],
 "metadata": {
  "kernelspec": {
   "display_name": "Python 3",
   "language": "python",
   "name": "python3"
  },
  "language_info": {
   "codemirror_mode": {
    "name": "ipython",
    "version": 3
   },
   "file_extension": ".py",
   "mimetype": "text/x-python",
   "name": "python",
   "nbconvert_exporter": "python",
   "pygments_lexer": "ipython3",
   "version": "3.8.5"
  }
 },
 "nbformat": 4,
 "nbformat_minor": 4
}
