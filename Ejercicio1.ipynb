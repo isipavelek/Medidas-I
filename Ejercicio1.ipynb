{
 "cells": [
  {
   "cell_type": "markdown",
   "metadata": {},
   "source": [
    "\n",
    "\n",
    "<img src=\"./logo_UTN.svg\" align=\"right\" width=\"150\" /> \n",
    " Medidas Electrónica I\n",
    "\n",
    "# Ejercicios Calculo de Incertidumbre\n",
    "#### Israel Pavelek \n",
    "Prof: Perdomo Juan\n"
   ]
  },
  {
   "cell_type": "markdown",
   "metadata": {},
   "source": [
    "Ejercicio 1:"
   ]
  },
  {
   "cell_type": "code",
   "execution_count": 1,
   "metadata": {},
   "outputs": [
    {
     "name": "stdout",
     "output_type": "stream",
     "text": [
      "R1m= 2.028 Ω\n",
      "R2m= 0.526 Ω\n",
      "emm= -0.35019973368841545\n",
      "S(R1)= 0.013038404810405376 Ω\n",
      "S(R2)= 0.01140175425099139 Ω\n",
      "ua(R1)= 0.005830951894845336 Ω\n",
      "ua(R2)= 0.005099019513592789 Ω\n"
     ]
    }
   ],
   "source": [
    "import numpy as np\n",
    "from sympy import Derivative, diff, simplify, symbols,S\n",
    "import statistics\n",
    "\n",
    "R1=[2.01,2.04,2.03,2.02,2.04]\n",
    "R2=[0.53,0.54,0.52,0.51,0.53]\n",
    "N=len(R1)\n",
    "R1m=np.mean(R1)\n",
    "R2m=np.mean(R2)\n",
    "emm=R2m/(R2m-R1m)\n",
    "SR1=statistics.stdev(R1)\n",
    "SR2=statistics.stdev(R2)\n",
    "uaR1=SR1/np.sqrt(N)\n",
    "uaR2=SR2/np.sqrt(N)\n",
    "print('R1m=',R1m,'Ω') \n",
    "print('R2m=',R2m,'Ω') \n",
    "print('emm=',emm) \n",
    "print('S(R1)=',SR1,'Ω') \n",
    "print('S(R2)=',SR2,'Ω') \n",
    "print('ua(R1)=',uaR1,'Ω') \n",
    "print('ua(R2)=',uaR2,'Ω')\n"
   ]
  },
  {
   "cell_type": "markdown",
   "metadata": {},
   "source": [
    "## Tipo B"
   ]
  },
  {
   "cell_type": "code",
   "execution_count": 2,
   "metadata": {},
   "outputs": [
    {
     "name": "stdout",
     "output_type": "stream",
     "text": [
      "ub(R1)= 0.017447067827766578 Ω\n",
      "ub(R2)= 0.013198671269266531 Ω\n"
     ]
    }
   ],
   "source": [
    "DELTAR1=((0.5/100)+(2/202))*R1m\n",
    "ubR1=(DELTAR1/np.sqrt(3))\n",
    "DELTAR2=((0.5/100)+(2/52))*R2m\n",
    "ubR2=(DELTAR2/np.sqrt(3))\n",
    "print('ub(R1)=',ubR1,'Ω') \n",
    "print('ub(R2)=',ubR2,'Ω')\n"
   ]
  },
  {
   "cell_type": "markdown",
   "metadata": {},
   "source": [
    "## Combinando\n"
   ]
  },
  {
   "cell_type": "code",
   "execution_count": 3,
   "metadata": {},
   "outputs": [
    {
     "name": "stdout",
     "output_type": "stream",
     "text": [
      "uc(R1)= 0.01839565643804776 Ω\n",
      "uc(R2)= 0.014149378900650085 Ω\n",
      "Correlacion(R1,R2)= 0.43723731609760164\n"
     ]
    }
   ],
   "source": [
    "ucR1=np.sqrt(ubR1**2+uaR1**2)\n",
    "ucR2=np.sqrt(ubR2**2+uaR2**2)\n",
    "corre=np.corrcoef(R1,R2)\n",
    "corre=corre[0][1]\n",
    "print('uc(R1)=',ucR1,'Ω')\n",
    "print('uc(R2)=',ucR2,'Ω')\n",
    "print('Correlacion(R1,R2)=',corre)\n",
    "R1v = symbols('R1')\n",
    "R2v = symbols('R2')\n",
    "em = R2v/(R2v-R1v)\n",
    "\n",
    "\n"
   ]
  },
  {
   "cell_type": "markdown",
   "metadata": {},
   "source": [
    "$ \\frac{\\partial{em}}{\\partial{R1}} = $"
   ]
  },
  {
   "cell_type": "code",
   "execution_count": 4,
   "metadata": {},
   "outputs": [
    {
     "data": {
      "text/latex": [
       "$\\displaystyle \\frac{R_{2}}{\\left(R_{1} - R_{2}\\right)^{2}}$"
      ],
      "text/plain": [
       "R2/(R1 - R2)**2"
      ]
     },
     "execution_count": 4,
     "metadata": {},
     "output_type": "execute_result"
    }
   ],
   "source": [
    "demR1 = Derivative(em, R1v,1).doit()\n",
    "demR1=simplify(demR1)\n",
    "demR1"
   ]
  },
  {
   "cell_type": "markdown",
   "metadata": {},
   "source": [
    "$ \\frac{\\partial{em}}{\\partial{R2}} = $"
   ]
  },
  {
   "cell_type": "code",
   "execution_count": 5,
   "metadata": {},
   "outputs": [
    {
     "data": {
      "text/latex": [
       "$\\displaystyle - \\frac{R_{1}}{\\left(R_{1} - R_{2}\\right)^{2}}$"
      ],
      "text/plain": [
       "-R1/(R1 - R2)**2"
      ]
     },
     "execution_count": 5,
     "metadata": {},
     "output_type": "execute_result"
    }
   ],
   "source": [
    "demR2 = Derivative(em, R2v,1).doit()\n",
    "demR2=simplify(demR2)\n",
    "demR2"
   ]
  },
  {
   "cell_type": "code",
   "execution_count": 6,
   "metadata": {},
   "outputs": [
    {
     "name": "stdout",
     "output_type": "stream",
     "text": [
      "demR1= 0.2331556149723139 1/Ω\n",
      "demR2= -0.8989345763571341 1/Ω\n"
     ]
    }
   ],
   "source": [
    "demR1c=R2m/((R2m-R1m)**2)\n",
    "demR2c=-R1m/((R2m-R1m)**2)\n",
    "print('demR1=',demR1c,'1/Ω')\n",
    "print('demR2=',demR2c,'1/Ω')\n",
    "\n"
   ]
  },
  {
   "cell_type": "code",
   "execution_count": 7,
   "metadata": {},
   "outputs": [
    {
     "name": "stdout",
     "output_type": "stream",
     "text": [
      "0.011509653862804203\n"
     ]
    }
   ],
   "source": [
    "uem=np.sqrt((demR1c**2)*(ucR1**2)+(demR2c**2)*(ucR2**2)+2*demR1c*demR2c*ucR1*ucR2*corre)\n",
    "print(uem)"
   ]
  },
  {
   "cell_type": "code",
   "execution_count": 8,
   "metadata": {},
   "outputs": [
    {
     "name": "stdout",
     "output_type": "stream",
     "text": [
      "0.023019307725608406\n"
     ]
    }
   ],
   "source": [
    "K=2\n",
    "U=uem*K\n",
    "print(U)"
   ]
  },
  {
   "cell_type": "code",
   "execution_count": 9,
   "metadata": {},
   "outputs": [
    {
     "name": "stdout",
     "output_type": "stream",
     "text": [
      "em=-0.350± 0.023\n"
     ]
    }
   ],
   "source": [
    "U=U.round(3)\n",
    "print(f\"em={emm:.3f}±\",U)"
   ]
  },
  {
   "cell_type": "markdown",
   "metadata": {},
   "source": [
    "K=2 con el 95,45% de nivel de confianza"
   ]
  },
  {
   "cell_type": "code",
   "execution_count": null,
   "metadata": {},
   "outputs": [],
   "source": []
  },
  {
   "cell_type": "code",
   "execution_count": null,
   "metadata": {},
   "outputs": [],
   "source": []
  },
  {
   "cell_type": "code",
   "execution_count": null,
   "metadata": {},
   "outputs": [],
   "source": []
  }
 ],
 "metadata": {
  "kernelspec": {
   "display_name": "Python 3",
   "language": "python",
   "name": "python3"
  },
  "language_info": {
   "codemirror_mode": {
    "name": "ipython",
    "version": 3
   },
   "file_extension": ".py",
   "mimetype": "text/x-python",
   "name": "python",
   "nbconvert_exporter": "python",
   "pygments_lexer": "ipython3",
   "version": "3.8.5"
  }
 },
 "nbformat": 4,
 "nbformat_minor": 4
}
