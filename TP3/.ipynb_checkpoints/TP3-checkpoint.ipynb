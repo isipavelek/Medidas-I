{
 "cells": [
  {
   "cell_type": "markdown",
   "id": "4eb8c76b",
   "metadata": {},
   "source": [
    "\n",
    "\n",
    "<img src=\"./logo_UTN.svg\" align=\"right\" width=\"150\" /> \n",
    " Medidas Electrónica I\n",
    "\n",
    "# Ejercicios de métodos de medición\n",
    "#### Israel Pavelek \n",
    "\n",
    "Prof: Ing. Perdomo Juan\n",
    "\n",
    "Ayudante: Ing. Franco Zaccra\n"
   ]
  },
  {
   "cell_type": "markdown",
   "id": "953073b6",
   "metadata": {},
   "source": [
    "### Ejercicio 1"
   ]
  }
 ],
 "metadata": {
  "kernelspec": {
   "display_name": "Python 3",
   "language": "python",
   "name": "python3"
  },
  "language_info": {
   "codemirror_mode": {
    "name": "ipython",
    "version": 3
   },
   "file_extension": ".py",
   "mimetype": "text/x-python",
   "name": "python",
   "nbconvert_exporter": "python",
   "pygments_lexer": "ipython3",
   "version": "3.8.8"
  }
 },
 "nbformat": 4,
 "nbformat_minor": 5
}
