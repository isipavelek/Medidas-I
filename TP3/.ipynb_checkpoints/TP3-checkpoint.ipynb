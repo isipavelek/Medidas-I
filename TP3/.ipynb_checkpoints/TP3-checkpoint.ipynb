{
 "cells": [
  {
   "cell_type": "markdown",
   "id": "4eb8c76b",
   "metadata": {},
   "source": [
    "\n",
    "\n",
    "<img src=\"./logo_UTN.svg\" align=\"right\" width=\"150\" /> \n",
    " Medidas Electrónica I\n",
    "\n",
    "# Ejercicios de métodos de medición\n",
    "#### Israel Pavelek \n",
    "\n",
    "Prof: Ing. Perdomo Juan\n",
    "\n",
    "Ayudante: Ing. Franco Zaccra\n"
   ]
  },
  {
   "cell_type": "markdown",
   "id": "8e56a62d",
   "metadata": {},
   "source": [
    "### Ejercicio 1\n",
    "\n",
    "Se midió una resistencia con un voltimetro y  una fuente de corriente de 1A ±0,1% y RS = 1MΩ, obteniéndose los siguientes datos: \n",
    "\n",
    "VOLTÍMETRO\n",
    "\n",
    "<table>\n",
    "  <tr>\n",
    "    <td>Dígitos</td>\n",
    "    <td>4,1/2</td>\n",
    "  </tr>\n",
    "  <tr>\n",
    "    <td>Rangos</td>\n",
    "    <td>50mV; 500mV, 5V, 50V, 500V y 1000V</td>\n",
    "  </tr>\n",
    "  <tr>\n",
    "    <td>Error</td>\n",
    "    <td>±(0,025% + 2d)</td>\n",
    "  </tr>\n",
    "  <tr>\n",
    "    <td>Ri</td>\n",
    "    <td>10MΩ</td>\n",
    "  </tr>\n",
    "  <tr>\n",
    "    <td>Indicaciones</td>\n",
    "    <td>48,329mV - 48,327mV - 48,346mV - 48,318mV - 48,323mV - 48,321mV</td>\n",
    "  </tr>\n",
    "</table>\n",
    "\n",
    "Se solicita:\n",
    "* 1_Determine el valor de la resistencia y su incertidumbre.\n",
    "* 2_Determine el error de método cometido e indique si es necesario corregirlo\n",
    "\n",
    "\n"
   ]
  },
  {
   "cell_type": "code",
   "execution_count": 67,
   "id": "09c29fe5",
   "metadata": {},
   "outputs": [
    {
     "name": "stdout",
     "output_type": "stream",
     "text": [
      "Vm= 48.327333333333335 mV\n",
      "Rm= 48.327333333333335 mΩ\n",
      "S(V)= 0.009973297682645094 mV\n",
      "ua(V)= 0.004071581729227066 mV\n"
     ]
    }
   ],
   "source": [
    "import numpy as np\n",
    "from sympy import Derivative, diff, simplify, symbols,S\n",
    "import statistics\n",
    "\n",
    "Im=1\n",
    "V=[48.329,48.327,48.346,48.318,48.323,48.321]\n",
    "N=len(V)\n",
    "Vm=np.mean(V)\n",
    "Rm=Vm/(Im)\n",
    "SV=statistics.stdev(V)\n",
    "uaV=SV/np.sqrt(N)\n",
    "print('Vm=',Vm,'mV') \n",
    "print('Rm=',Rm,'mΩ') \n",
    "print('S(V)=',SV,'mV') \n",
    "print('ua(V)=',uaV,'mV') "
   ]
  },
  {
   "cell_type": "markdown",
   "id": "bad17777",
   "metadata": {},
   "source": [
    "### TIPO B"
   ]
  },
  {
   "cell_type": "code",
   "execution_count": 68,
   "id": "ee0a4685",
   "metadata": {},
   "outputs": [
    {
     "name": "stdout",
     "output_type": "stream",
     "text": [
      "ub(V)= 0.008130158230179058 mV\n",
      "ub(I)= 0.0005773502691896258 A\n"
     ]
    }
   ],
   "source": [
    "DELTAV=((0.025/100)+(2/48327))*Vm\n",
    "ubV=(DELTAV/np.sqrt(3))\n",
    "DELTAI=(0.1/100)*Im\n",
    "ubI=(DELTAI/np.sqrt(3))\n",
    "print('ub(V)=',ubV,'mV') \n",
    "print('ub(I)=',ubI,'A')\n"
   ]
  },
  {
   "cell_type": "markdown",
   "id": "6c588c0c",
   "metadata": {},
   "source": [
    "### Combinando"
   ]
  },
  {
   "cell_type": "code",
   "execution_count": 69,
   "id": "870b0f02",
   "metadata": {},
   "outputs": [
    {
     "name": "stdout",
     "output_type": "stream",
     "text": [
      "ucr(V)= 0.00018814824915159458\n",
      "ucr(I)= 0.0005773502691896258\n",
      "ucr(R)= 0.0006072339721986443\n",
      "uc(R)= 0.02934599858576795 mΩ\n"
     ]
    }
   ],
   "source": [
    "ucV=np.sqrt(ubV**2+uaV**2)\n",
    "ucVr=ucV/Vm\n",
    "ucI=ubI\n",
    "ucIr=ucI/Im\n",
    "ucRr=np.sqrt(ucVr**2+ucIr**2)\n",
    "ucR=ucRr*Rm\n",
    "print('ucr(V)=',ucVr)\n",
    "print('ucr(I)=',ucIr)\n",
    "print('ucr(R)=',ucRr)\n",
    "print('uc(R)=',ucR,'mΩ')\n",
    "\n",
    "\n"
   ]
  },
  {
   "cell_type": "code",
   "execution_count": 70,
   "id": "ba4108dc",
   "metadata": {},
   "outputs": [
    {
     "name": "stdout",
     "output_type": "stream",
     "text": [
      "U= 0.0586919971715359 mΩ\n"
     ]
    }
   ],
   "source": [
    "K=2\n",
    "U=ucR*K\n",
    "print(\"U=\",U,'mΩ')"
   ]
  },
  {
   "cell_type": "code",
   "execution_count": 71,
   "id": "4fefb093",
   "metadata": {},
   "outputs": [
    {
     "name": "stdout",
     "output_type": "stream",
     "text": [
      "R=(48.327±0.059)mΩ\n"
     ]
    }
   ],
   "source": [
    "print(f\"R=({Rm:.3f}±{U.round(3):.3f})mΩ\")"
   ]
  },
  {
   "cell_type": "markdown",
   "id": "ed0050d7",
   "metadata": {},
   "source": [
    "K=2 con el 95,45% de nivel de confianza"
   ]
  },
  {
   "cell_type": "markdown",
   "id": "07903cee",
   "metadata": {},
   "source": [
    "Para el punto 2, veamos el circuito de medición:\n",
    "\n",
    "<img src=\"./Ej1em.png\" align=\"center\" width=\"500\" /> \n",
    "\n",
    "Donde V es la tensión que efectivamente mediría el voltímetro.\n",
    "\n",
    "En este caso la corriente que entregaría la fuente de 1A sería repartida, en principio por RS y RV ademas de la R que estamos queriendo medir.\n",
    "\n",
    "$$em_r=\\frac{Ri-Rv}{Rv}$$\n",
    "\n",
    "$$em_r=\\frac{Ri}{Rv}-1$$\n",
    "\n",
    "$Ri=\\frac{Vi}{Ig}$\n",
    "\n",
    "Llamamos Rp al paralelo de Rv y Rs\n",
    "\n",
    "$em_r=\\frac{\\frac{Vi}{Ig}}{\\frac{Vi}{\\frac{Rp}{Rp+Ri}\\cdot Ig}}-1$\n",
    "\n",
    "$em_r=\\frac{1}{\\frac{Rp+Ri}{Rp}}-1$\n",
    "\n",
    "$em_r=\\frac{Rp}{Rp+Ri}-1$\n",
    "\n",
    "$em_r=\\frac{Rp-Rp-Ri}{Rp+Ri}$\n",
    "\n",
    "$$em_r=\\frac{-Ri}{Rp+Ri}$$\n",
    "\n",
    "$$em_r=\\frac{-\\frac{Vi}{Ig}}{Rp+\\frac{Vi}{Ig}}$$\n",
    "\n",
    "$$em_r=\\frac{-\\frac{Vi}{Ig}}{Rp+\\frac{Vi}{Ig}}$$\n",
    "\n",
    "Reemplazando:\n",
    "\n",
    "Rp=1MΩ//10MΩ=909.09KΩ\n",
    "\n",
    "$$em_r=\\frac{-48.327m\\Omega}{909.09K\\Omega+48.327m\\Omega}=53.16n$$\n",
    "\n",
    "\n",
    "Dado que $10\\cdot em_r<U(R)$\n",
    "\n",
    "No es necesario corregir."
   ]
  },
  {
   "cell_type": "markdown",
   "id": "bdc34c2b",
   "metadata": {},
   "source": [
    "### Ejercicio 2\n",
    "\n",
    "Se desea medir la tensión de un generador de señal senoidal con un voltímetro\n",
    "\n",
    "VOLTÍMETRO:\t\n",
    "\n",
    "<table>\n",
    "  <tr>\n",
    "    <td>Tipo</td>\n",
    "    <td>True RMS - 4½ Dígitos</td>\n",
    "  </tr>\n",
    "  <tr>\n",
    "    <td>Rangos</td>\n",
    "    <td>200mV – 2V – 20V– 200V– 1000V</td>\n",
    "  </tr>\n",
    "  <tr>\n",
    "    <td>Error</td>\n",
    "    <td>±(0,05% + 2d)</td>\n",
    "  </tr>\n",
    "  <tr>\n",
    "    <td>Zv</td>\n",
    "    <td>1MΩ // 470pF</td>\n",
    "  </tr>\n",
    "</table>\n",
    "\n",
    "Generador:\n",
    "\n",
    "<table>\n",
    "  <tr>\n",
    "    <td>Rg</td>\n",
    "    <td>600Ω</td>\n",
    "  </tr>\n",
    "  <tr>\n",
    "    <td>F</td>\n",
    "    <td>15kHz</td>\n",
    "  </tr>\n",
    "</table>\n",
    "\n",
    "Se solicita:\n",
    "* 1_ Deduzca la ecuación del error de método, en función de los componentes del circuito\n",
    "* 2_ Si Vi = 1,8562V, determine el error de método, ¿es necesario corregirlo? ¿cuál es el valor corregido?\n",
    "\n"
   ]
  },
  {
   "cell_type": "markdown",
   "id": "23147038",
   "metadata": {},
   "source": [
    "$e_{Mr}=\\frac{V_i-V_v}{V_v}=\\frac{|V_{Zv}|-|V_{TH}|}{|V_{TH}|}=\\frac{|V_{Zv}|}{|V_{TH}|}-1$\n",
    "\n",
    "$Z_v=\\frac{R_v}{j\\omega R_v C_v +1}$\n",
    "\n",
    "$V_{ZV}=\\frac{Z_V}{R_G+Z_V} \\cdot V_{TH}$\n",
    "\n",
    "$\\frac{|V_{Zv}|}{|V_{TH}|}=\\frac{R_G}{R_G+R_V} \\cdot \\frac{1}{\\sqrt{1+(\\omega C_V (R_G // R_V))^2}}$\n",
    "\n",
    "$e_{Mr}=\\frac{R_G}{R_G+R_V} \\cdot \\frac{1}{\\sqrt{1+(\\omega C_V (R_G // R_V))^2}}-1$\n",
    "\n",
    "$\\Delta V_r=\\frac{ \\Delta V}{V_I}=(\\frac{0,05 \\%}{100}+\\frac{2}{178562})=0,5112m$\n",
    "\n",
    "$\\mu_A(V_I)=0$\n",
    "\n",
    "$\\mu_{Br}(V_I)=\\frac{\\Delta V_r}{\\sqrt3}=0,2951m$\n",
    "\n",
    "$\\mu(V_I)=\\sqrt{\\mu^2_B(V_I)}=\\mu_B(V_I)$\n",
    "\n",
    "$\\mu_r(V_I)=\\mu_{Br}(V_I)$\n",
    "\n",
    "$U_r(V_I)=K\\cdot\\mu_r(V_I)=2 \\cdot 0,2951m=0,5902m$\n",
    "\n",
    "$e_{Mr}=\\frac{R_G}{R_G+R_V} \\cdot \\frac{1}{\\sqrt{1+(2\\pi F C_V (R_G // R_V))^2}}-1$\n",
    "\n",
    "$e_{Mr}=0,99940 \\cdot \\frac{1}{\\sqrt{1+(113,06K 471pF 599,64\\Omega)^2}}-1$\n",
    "\n",
    "$e_{Mr}=-1,10938m$\n",
    "\n",
    "Como $\\frac{U_R}{10}=0,05902m<|e_{Mr}$\n",
    "\n",
    "Necesito corregir\n",
    "\n",
    "$V_V=\\frac{V_I}{1+e_{Mr}}=\\frac{1,8562V}{1-1,10938m}=1,85826V$\n",
    "\n",
    "$V_V=1,85826V$\n",
    "\n",
    "\n",
    "\n",
    "\n",
    "\n"
   ]
  },
  {
   "cell_type": "markdown",
   "id": "ccc246fb",
   "metadata": {},
   "source": [
    "### Ejercicio 3\n",
    "\n",
    "Se desea determinar la regulación de línea de una fuente switching estimada en 0,25%. Tensión de entrada: 9V a 30V; Tensión de salida: 3,3V.\n",
    "\n",
    "* a_Dibuje el circuito correspondiente y describa el proceso de medición\n",
    "* b_Determinar todos los elementos necesarios para realizar el ensayo, justificando la elección.\n",
    "* c_Hallar el resultado de la medición. ¿El regulador se encuentra dentro de la especificación del fabricante?\n",
    "\n",
    "Voltímetro\n",
    "\n",
    "<table>\n",
    "  <tr>\n",
    "    <td>Tipo</td>\n",
    "    <td>4½ Dígitos</td>\n",
    "  </tr>\n",
    "  <tr>\n",
    "    <td>Rangos</td>\n",
    "    <td>200mV – 2V – 20V</td>\n",
    "  </tr>\n",
    "  <tr>\n",
    "    <td>Error</td>\n",
    "    <td>±(0,05% + 2d)</td>\n",
    "  </tr>\n",
    "  <tr>\n",
    "    <td>Rv</td>\n",
    "    <td>10MΩ</td>\n",
    "  </tr>\n",
    "</table>\n",
    "\n",
    "Mediciones:\n",
    "\n",
    "<table>\n",
    "  <tr>\n",
    "    <td>$V_{1MEDIA}=0,01mV$</td>\n",
    "    <td>$s(V1)=0,06mV$</td>\n",
    "    <td>$N=9$</td>\n",
    "  </tr>\n",
    "  <tr>\n",
    "    <td>$V_{2MEDIA}=8,52mV$</td>\n",
    "    <td>$s(V2)=0,09mV$</td>\n",
    "    <td>$N=9$</td>\n",
    "  </tr>\n",
    "</table>\n"
   ]
  },
  {
   "cell_type": "markdown",
   "id": "1ed6579c",
   "metadata": {},
   "source": [
    "a_\n",
    "\n",
    "Circuito:\n",
    "\n",
    "<img src=\"./Ej3.png\" align=\"center\" width=\"500\" /> \n",
    "\n",
    "Descripción del proceso de medición:\n",
    "\n",
    "* Con VL en tensión de trabajo nominal, ajustar VREF (mediante R4 y R2) hasta lograr que la tensión indicada sea cero (en la escala de 200mv).\n",
    "* Llevar VL a la tensión máxima de regulación de línea soportada y tomar la medición.\n",
    "* Llevar VL a la tensión de trabajo nominal y verificar que la indicación vuelva a cero, de lo contrario se descarta la medición"
   ]
  },
  {
   "cell_type": "markdown",
   "id": "b0b858c0",
   "metadata": {},
   "source": []
  },
  {
   "cell_type": "markdown",
   "id": "4802fcf6",
   "metadata": {},
   "source": [
    "b_\n",
    "\n",
    "Elementos:\n",
    "    Vs:3.3v\n",
    "    VR: Utilizamos una bateria alcalina de 9V dado que posee gran establidad\n",
    "    \n",
    "    Dado el multimetro de 4½ digitos en la escala de 200mv tenemos una resolución de 0.01mV \n",
    "    \n",
    "VR:9V\n",
    "\n",
    "Adopto para que no sea muy grande y descargue la bateria ni pequeña para que el ruido afecte. \n",
    "\n",
    "$Ir=100\\mu A$\n",
    "\n",
    "\n",
    "$V_{R2}=2\\cdot \\Delta V_{e}$\n",
    "\n",
    "$\\Delta V_{e}=\\frac{3,3V \\cdot 0,25\\%}{100}=8,25mV$\n",
    "\n",
    "Adopto:\n",
    "\n",
    "$V_{R2}=16,5mV$\n",
    "\n",
    "$R_2=\\frac{V_{R2}}{I_R}=\\frac{16,5mV}{100\\mu A}=165\\Omega=150\\Omega$\n",
    "\n",
    "Con $150\\Omega V_{R2}=15,0mv$\n",
    "\n",
    "$\\Delta V_{R2}=\\frac{V_{R2}}{P_{R2}}=\\frac{15,0mV}{100}=0,150mv$\n",
    "\n",
    "$V_{R1}=9V-(3,3V+7,5mv)=5,6925V$\n",
    "\n",
    "$R_1=\\frac{V_{R1}}{I_R}=\\frac{5,6925V}{100\\mu A}=56K\\Omega$\n",
    "\n",
    "\n",
    "Establezco el valor de $R_4$ que me permite tener la resolución buscada:\n",
    "\n",
    "$0,005mV=\\Delta V_{R4}=\\frac{V_{R4}}{P_{R4}}=\\frac{V_{R4}}{100}$\n",
    "\n",
    "$V_{R4}=0,005mV \\cdot 100=0,5mV$\n",
    "\n",
    "$R_4=\\frac{V_{R4}}{I_R}=5\\Omega$    \n",
    "\n",
    "$V_{R_3}=9V-(V_{R1}+V_{R2}+V_{R4})=3,2425V$\n",
    "\n",
    "$R_3=\\frac{V_{R3}}{I_R}=32,425K\\Omega=33K\\Omega$    \n",
    "        "
   ]
  },
  {
   "cell_type": "markdown",
   "id": "30a782be",
   "metadata": {},
   "source": [
    "### TIPO A"
   ]
  },
  {
   "cell_type": "code",
   "execution_count": 72,
   "id": "4c68f9b1",
   "metadata": {},
   "outputs": [
    {
     "name": "stdout",
     "output_type": "stream",
     "text": [
      "ua(V)= 0.024494897427831782 mV\n",
      "ua(V)= 0.03674234614174767 mV\n"
     ]
    }
   ],
   "source": [
    "V1m=0.01\n",
    "SV1=0.06\n",
    "uaV1=SV1/np.sqrt(N)\n",
    "print('ua(V)=',uaV1,'mV') \n",
    "\n",
    "\n",
    "V2m=8.52\n",
    "SV2=0.09\n",
    "uaV2=SV2/np.sqrt(N)\n",
    "print('ua(V)=',uaV2,'mV') \n"
   ]
  },
  {
   "cell_type": "markdown",
   "id": "ef89c930",
   "metadata": {},
   "source": [
    "### TIPO B"
   ]
  },
  {
   "cell_type": "code",
   "execution_count": 73,
   "id": "2e41d627",
   "metadata": {},
   "outputs": [
    {
     "name": "stdout",
     "output_type": "stream",
     "text": [
      "ub(V1)= 0.011549892135138465 mV\n",
      "ub(V2)= 0.014006517530540321 mV\n"
     ]
    }
   ],
   "source": [
    "DELTAV1=((0.05/100)+(2/1))*V1m\n",
    "ubV1=(DELTAV1/np.sqrt(3))\n",
    "\n",
    "DELTAV2=((0.05/100)+(2/852))*V2m\n",
    "ubV2=(DELTAV2/np.sqrt(3))\n",
    "print('ub(V1)=',ubV1,'mV') \n",
    "print('ub(V2)=',ubV2,'mV')"
   ]
  },
  {
   "cell_type": "markdown",
   "id": "892cfadb",
   "metadata": {},
   "source": [
    "### COMBIANANDO"
   ]
  },
  {
   "cell_type": "code",
   "execution_count": 74,
   "id": "443a23e5",
   "metadata": {},
   "outputs": [
    {
     "name": "stdout",
     "output_type": "stream",
     "text": [
      "uc(V1)= 0.0270813590562463 mV\n",
      "uc(V2)= 0.0393215276068127 mV\n"
     ]
    }
   ],
   "source": [
    "ucV1=np.sqrt(ubV1**2+uaV1**2)\n",
    "ucV2=np.sqrt(ubV2**2+uaV2**2)\n",
    "\n",
    "print('uc(V1)=',ucV1,'mV')\n",
    "print('uc(V2)=',ucV2,'mV')\n"
   ]
  },
  {
   "cell_type": "code",
   "execution_count": 76,
   "id": "fcb7ba60",
   "metadata": {},
   "outputs": [
    {
     "name": "stdout",
     "output_type": "stream",
     "text": [
      "DeltaV=(8.510±0.095)mV\n"
     ]
    }
   ],
   "source": [
    "DeltaV=V2m-V1m\n",
    "uDeltaV=np.sqrt(ucV1**2+ucV2**2)\n",
    "UDeltaV=2*uDeltaV\n",
    "print(f\"DeltaV=({DeltaV:.3f}±{UDeltaV.round(3):.3f})mV\")\n",
    "\n"
   ]
  },
  {
   "cell_type": "markdown",
   "id": "0ca6fa52",
   "metadata": {},
   "source": [
    "K=2 con el 95,45% de nivel de confianza"
   ]
  },
  {
   "cell_type": "markdown",
   "id": "413e088b",
   "metadata": {},
   "source": [
    "El fabricante dice que:\n",
    "\n",
    "$\\Delta V_{e}=\\frac{3,3V \\cdot 0,25\\%}{100}=8,25mV$\n",
    "\n",
    "$\\Delta V_{min}=(8,51-0,095)mV=8,415mV$\n",
    "\n",
    "$\\Delta V_{max}=(8,51+0,095)mV=8,605mV$\n",
    "\n",
    "El dipositivo no cumple con la especificacion"
   ]
  },
  {
   "cell_type": "markdown",
   "id": "6c54e6a0",
   "metadata": {},
   "source": [
    "# Ejercicio 4"
   ]
  },
  {
   "cell_type": "markdown",
   "id": "67ce3f03",
   "metadata": {},
   "source": [
    "Se desea determinar la regulación de carga de una fuente estimada en 50mV con una IMAX = 1.5A, cuya tensión nominal es 5.0V.\n",
    "\n",
    "<img src=\"./4_instrumentos.png\" align=\"center\" width=\"500\" /> \n",
    "\n",
    "\n",
    "* 1_Dibuje el circuito correspondiente y describa el proceso para realizar la medición.\n",
    "* 2_Seleccione el instrumento que utilizará en la medición justificando la elección.\n",
    "* 3_Determinar todos los elementos necesarios para realizar el ensayo.\n",
    "* 4_Si luego de tomar 10 muestras con y sin carga, se obtuvo que V1 = 0,0mV  σ1=0.1mV y V2 = 10,8mV σ2=1.1mV, hallar el resultado de la medición.\n",
    "\n"
   ]
  },
  {
   "cell_type": "markdown",
   "id": "a3dec349",
   "metadata": {},
   "source": [
    "1_\n",
    "\n",
    "<img src=\"./circuito4.png\" align=\"center\" width=\"500\" /> \n",
    "\n",
    "2_\n",
    "\n",
    "* Con la llave abierta, ajustar VREF (R_2 y R4) hasta lograr que la tensión indicada sea cero (Setear el voltimetro en la escala de 200mv).\n",
    "* Cerrar la llave y tomar la medición.\n",
    "* Abrir la llave nuevamente y verificar que la indicación vuelva a cero, de lo contrario se descarta la medición\n",
    "\n",
    "3_"
   ]
  },
  {
   "cell_type": "code",
   "execution_count": null,
   "id": "941a3f40",
   "metadata": {},
   "outputs": [],
   "source": []
  },
  {
   "cell_type": "code",
   "execution_count": null,
   "id": "5b4fad00",
   "metadata": {},
   "outputs": [],
   "source": []
  },
  {
   "cell_type": "code",
   "execution_count": null,
   "id": "06d53fc3",
   "metadata": {},
   "outputs": [],
   "source": []
  },
  {
   "cell_type": "code",
   "execution_count": null,
   "id": "f5a523e7",
   "metadata": {},
   "outputs": [],
   "source": []
  },
  {
   "cell_type": "code",
   "execution_count": null,
   "id": "723db06e",
   "metadata": {},
   "outputs": [],
   "source": []
  },
  {
   "cell_type": "code",
   "execution_count": null,
   "id": "bb94fae7",
   "metadata": {},
   "outputs": [],
   "source": []
  },
  {
   "cell_type": "code",
   "execution_count": null,
   "id": "ecf07146",
   "metadata": {},
   "outputs": [],
   "source": []
  },
  {
   "cell_type": "code",
   "execution_count": null,
   "id": "60da736b",
   "metadata": {},
   "outputs": [],
   "source": []
  },
  {
   "cell_type": "code",
   "execution_count": null,
   "id": "9910dfc1",
   "metadata": {},
   "outputs": [],
   "source": []
  },
  {
   "cell_type": "code",
   "execution_count": null,
   "id": "e66aba67",
   "metadata": {},
   "outputs": [],
   "source": []
  },
  {
   "cell_type": "code",
   "execution_count": null,
   "id": "ac5e440f",
   "metadata": {},
   "outputs": [],
   "source": []
  },
  {
   "attachments": {},
   "cell_type": "markdown",
   "id": "740b3534",
   "metadata": {},
   "source": [
    "### Ejercicio 5\n",
    "\n",
    "Se desea calibrar la referencia de tensión de 1 V del laboratorio de Medidas Electrónicas I (calibrador Pioneer) a partir de un banco de pilas patrón de 10V.\n",
    " \n",
    "Datos:\n",
    "·         Patrón primario: Tensión de salida: 10V Exactitud de salida: 0.001% accuracy\n",
    "·         Divisor Kelvin & Varley: Resolución : 1ppm Exactitud: 0.1 ppm\n",
    "·         Calibrador Pioneer 450A: Salida de 1V ±0.05% accuracy\n",
    "·         Voltímetro: Fluke 189\n",
    "\n",
    "\n",
    "<img src=\"./ej5.png\" align=\"center\" width=\"500\" /> \n",
    "\n",
    "\n",
    "a) En base a las mediciones, informe el resultado final de la calibración y verifique el cumplimiento o no de las especificaciones.\n",
    "b) Explique el concepto de trazabilidad.\n",
    "c) Se realizó la medición directa de la salida del Pioneer 450A con el Fluke 189 arrojando los siguientes valores:\n",
    "\n",
    "<img src=\"./ej52.png\" align=\"center\" width=\"500\" /> \n",
    "\n",
    "En base a ellos defina cuál es el valor de la incertidumbre en la calibración del Pioneer 450A y compárelo con el calculado en el punto (a); extraiga conclusiones.\n"
   ]
  },
  {
   "cell_type": "markdown",
   "id": "e52e8768",
   "metadata": {},
   "source": [
    "### Ejercicio 6\n",
    "\n",
    "Se midieron por comparación una resistencia patrón y una incógnita con un voltímetro digital\n",
    "obteniendo los siguientes resultados:\n",
    "\n",
    "Vpi = 0,9863 V y un desvió estándar experimental de 0.05 mV\n",
    "\n",
    "Vxi = 1,7588 V y un desvió estándar experimental de 0.05 mV\n",
    "\n",
    "Sabiendo que: Rp= 10MΩ ±0,05% 0,1W Rx≈ 20MΩ 1⁄4W\n",
    "\n",
    "Y el voltímetro tiene las siguientes características: Dígitos: 4 3⁄4 Rv= 10Mohm\n",
    "\n",
    "Error: 40mV ±(0,5%+2d) ; 400mV ±(0,5%+2d) ; 4V ±(0,5%+3d) ; 40V ±(0,5%+3d) ; 400V ±(0,5%+3d)\n",
    "\n",
    "* a) Dibuje el circuito correspondiente\n",
    "* b) Deduzca las ecuaciones que rigen la ecuación planteada\n",
    "* c) Determine el resultado de la medición\n",
    "* d) Critique la medición indicando las modificaciones que realizaría para mejorarla indicando cual es el impacto de los cambios sugeridos.\n"
   ]
  },
  {
   "cell_type": "markdown",
   "id": "091c67ca",
   "metadata": {},
   "source": [
    "### Ejercicio 7\n",
    "\n",
    "En un puente universal determine:\n",
    "* a) El circuito correspondiente a la medición de un inductor de bajo factor de merito\n",
    "* b) Describa el proceso de medición\n",
    "* c) Si se opera con una fuente de 10KHz, ¿Cuáles serán los resultados a obtener?\n",
    "* d) ¿Qué diferencia representa materializar un capacitor real en configuración paralelo o configuración serie?\n"
   ]
  },
  {
   "cell_type": "code",
   "execution_count": null,
   "id": "a60907ab",
   "metadata": {},
   "outputs": [],
   "source": []
  }
 ],
 "metadata": {
  "kernelspec": {
   "display_name": "Python 3",
   "language": "python",
   "name": "python3"
  },
  "language_info": {
   "codemirror_mode": {
    "name": "ipython",
    "version": 3
   },
   "file_extension": ".py",
   "mimetype": "text/x-python",
   "name": "python",
   "nbconvert_exporter": "python",
   "pygments_lexer": "ipython3",
   "version": "3.8.8"
  }
 },
 "nbformat": 4,
 "nbformat_minor": 5
}
