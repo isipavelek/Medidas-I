{
 "cells": [
  {
   "cell_type": "markdown",
   "id": "78afae1a",
   "metadata": {},
   "source": [
    "\n",
    "\n",
    "<img src=\"./logo_UTN.svg\" align=\"right\" width=\"150\" /> \n",
    " Medidas Electrónica I\n",
    "\n",
    "# Ejercicios de métodos de medición\n",
    "#### Israel Pavelek \n",
    "\n",
    "Prof: Ing. Perdomo Juan\n",
    "\n",
    "Ayudante: Ing. Franco Zaccra\n"
   ]
  },
  {
   "cell_type": "markdown",
   "id": "ec32a66d",
   "metadata": {},
   "source": [
    "### Ejercicio 1\n",
    "\n",
    "Se midió una resistencia con un voltimetro y  una fuente de corriente de 1A ±0,1% y RS = 1MΩ, obteniéndose los siguientes datos: \n",
    "\n",
    "VOLTÍMETRO\n",
    "\n",
    "<table>\n",
    "  <tr>\n",
    "    <td>Dígitos</td>\n",
    "    <td>4,1/2</td>\n",
    "  </tr>\n",
    "  <tr>\n",
    "    <td>Rangos</td>\n",
    "    <td>50mV; 500mV, 5V, 50V, 500V y 1000V</td>\n",
    "  </tr>\n",
    "  <tr>\n",
    "    <td>Error</td>\n",
    "    <td>±(0,025% + 2d)</td>\n",
    "  </tr>\n",
    "  <tr>\n",
    "    <td>Ri</td>\n",
    "    <td>10MΩ</td>\n",
    "  </tr>\n",
    "  <tr>\n",
    "    <td>Indicaciones</td>\n",
    "    <td>48,329mV - 48,327mV - 48,346mV - 48,318mV - 48,323mV - 48,321mV</td>\n",
    "  </tr>\n",
    "</table>\n",
    "\n",
    "Se solicita:\n",
    "* 1_Determine el valor de la resistencia y su incertidumbre.\n",
    "* 2_Determine el error de método cometido e indique si es necesario corregirlo\n",
    "\n",
    "\n"
   ]
  },
  {
   "cell_type": "code",
   "execution_count": 2,
   "id": "9dd0def1",
   "metadata": {},
   "outputs": [
    {
     "name": "stdout",
     "output_type": "stream",
     "text": [
      "Vm= 48.327333333333335 mV\n",
      "Rm= 48.327333333333335 mΩ\n",
      "S(V)= 0.009973297682645094 mV\n",
      "ua(V)= 0.004071581729227066 mV\n"
     ]
    }
   ],
   "source": [
    "import numpy as np\n",
    "from sympy import Derivative, diff, simplify, symbols,S\n",
    "import statistics\n",
    "\n",
    "Im=1\n",
    "V=[48.329,48.327,48.346,48.318,48.323,48.321]\n",
    "N=len(V)\n",
    "Vm=np.mean(V)\n",
    "Rm=Vm/(Im)\n",
    "SV=statistics.stdev(V)\n",
    "uaV=SV/np.sqrt(N)\n",
    "print('Vm=',Vm,'mV') \n",
    "print('Rm=',Rm,'mΩ') \n",
    "print('S(V)=',SV,'mV') \n",
    "print('ua(V)=',uaV,'mV') "
   ]
  },
  {
   "cell_type": "markdown",
   "id": "00fae7a1",
   "metadata": {},
   "source": [
    "### TIPO B"
   ]
  },
  {
   "cell_type": "code",
   "execution_count": 3,
   "id": "e5ff1d86",
   "metadata": {},
   "outputs": [
    {
     "name": "stdout",
     "output_type": "stream",
     "text": [
      "ub(V)= 0.008130158230179058 mV\n",
      "ub(I)= 0.0005773502691896258 A\n"
     ]
    }
   ],
   "source": [
    "DELTAV=((0.025/100)+(2/48327))*Vm\n",
    "ubV=(DELTAV/np.sqrt(3))\n",
    "DELTAI=(0.1/100)*Im\n",
    "ubI=(DELTAI/np.sqrt(3))\n",
    "print('ub(V)=',ubV,'mV') \n",
    "print('ub(I)=',ubI,'A')\n"
   ]
  },
  {
   "cell_type": "markdown",
   "id": "54385cd0",
   "metadata": {},
   "source": [
    "### Combinando"
   ]
  },
  {
   "cell_type": "code",
   "execution_count": 4,
   "id": "ab0810f1",
   "metadata": {},
   "outputs": [
    {
     "name": "stdout",
     "output_type": "stream",
     "text": [
      "ucr(V)= 0.00018814824915159458\n",
      "ucr(I)= 0.0005773502691896258\n",
      "ucr(R)= 0.0006072339721986443\n",
      "uc(R)= 0.02934599858576795 mΩ\n"
     ]
    }
   ],
   "source": [
    "ucV=np.sqrt(ubV**2+uaV**2)\n",
    "ucVr=ucV/Vm\n",
    "ucI=ubI\n",
    "ucIr=ucI/Im\n",
    "ucRr=np.sqrt(ucVr**2+ucIr**2)\n",
    "ucR=ucRr*Rm\n",
    "print('ucr(V)=',ucVr)\n",
    "print('ucr(I)=',ucIr)\n",
    "print('ucr(R)=',ucRr)\n",
    "print('uc(R)=',ucR,'mΩ')\n",
    "\n",
    "\n"
   ]
  },
  {
   "cell_type": "code",
   "execution_count": 5,
   "id": "a1e82151",
   "metadata": {},
   "outputs": [
    {
     "name": "stdout",
     "output_type": "stream",
     "text": [
      "U= 0.0586919971715359 mΩ\n"
     ]
    }
   ],
   "source": [
    "K=2\n",
    "U=ucR*K\n",
    "print(\"U=\",U,'mΩ')"
   ]
  },
  {
   "cell_type": "code",
   "execution_count": 6,
   "id": "f6a9a210",
   "metadata": {},
   "outputs": [
    {
     "name": "stdout",
     "output_type": "stream",
     "text": [
      "R=(48.327±0.059)mΩ\n",
      "K=2 con el 95,45% de nivel de confianza\n"
     ]
    }
   ],
   "source": [
    "print(f\"R=({Rm:.3f}±{U.round(3):.3f})mΩ\")\n",
    "print(\"K=2 con el 95,45% de nivel de confianza\")"
   ]
  },
  {
   "cell_type": "markdown",
   "id": "a363a98c",
   "metadata": {},
   "source": [
    "Para el punto 2, veamos el circuito de medición:\n",
    "\n",
    "<img src=\"./Ej1em.png\" align=\"center\" width=\"500\" /> \n",
    "\n",
    "Donde V es la tensión que efectivamente mediría el voltímetro.\n",
    "\n",
    "En este caso la corriente que entregaría la fuente de 1A sería repartida, en principio por RS y RV ademas de la R que estamos queriendo medir.\n",
    "\n",
    "$$em_r=\\frac{Ri-Rv}{Rv}$$\n",
    "\n",
    "$$em_r=\\frac{Ri}{Rv}-1$$\n",
    "\n",
    "$Ri=\\frac{Vi}{Ig}$\n",
    "\n",
    "Llamamos Rp al paralelo de Rv y Rs\n",
    "\n",
    "$em_r=\\frac{\\frac{Vi}{Ig}}{\\frac{Vi}{\\frac{Rp}{Rp+Ri}\\cdot Ig}}-1$\n",
    "\n",
    "$em_r=\\frac{1}{\\frac{Rp+Ri}{Rp}}-1$\n",
    "\n",
    "$em_r=\\frac{Rp}{Rp+Ri}-1$\n",
    "\n",
    "$em_r=\\frac{Rp-Rp-Ri}{Rp+Ri}$\n",
    "\n",
    "$$em_r=\\frac{-Ri}{Rp+Ri}$$\n",
    "\n",
    "$$em_r=\\frac{-\\frac{Vi}{Ig}}{Rp+\\frac{Vi}{Ig}}$$\n",
    "\n",
    "$$em_r=\\frac{-\\frac{Vi}{Ig}}{Rp+\\frac{Vi}{Ig}}$$\n",
    "\n",
    "Reemplazando:\n",
    "\n",
    "Rp=1MΩ//10MΩ=909.09KΩ\n",
    "\n",
    "$$em_r=\\frac{-48.327m\\Omega}{909.09K\\Omega+48.327m\\Omega}=53.16n$$\n",
    "\n",
    "\n",
    "Dado que $10\\cdot em_r<U(R)$\n",
    "\n",
    "No es necesario corregir."
   ]
  },
  {
   "cell_type": "markdown",
   "id": "39f01223",
   "metadata": {},
   "source": [
    "### Ejercicio 2\n",
    "\n",
    "Se desea medir la tensión de un generador de señal senoidal con un voltímetro\n",
    "\n",
    "VOLTÍMETRO:\t\n",
    "\n",
    "<table>\n",
    "  <tr>\n",
    "    <td>Tipo</td>\n",
    "    <td>True RMS - 4½ Dígitos</td>\n",
    "  </tr>\n",
    "  <tr>\n",
    "    <td>Rangos</td>\n",
    "    <td>200mV – 2V – 20V– 200V– 1000V</td>\n",
    "  </tr>\n",
    "  <tr>\n",
    "    <td>Error</td>\n",
    "    <td>±(0,05% + 2d)</td>\n",
    "  </tr>\n",
    "  <tr>\n",
    "    <td>Zv</td>\n",
    "    <td>1MΩ // 470pF</td>\n",
    "  </tr>\n",
    "</table>\n",
    "\n",
    "Generador:\n",
    "\n",
    "<table>\n",
    "  <tr>\n",
    "    <td>Rg</td>\n",
    "    <td>600Ω</td>\n",
    "  </tr>\n",
    "  <tr>\n",
    "    <td>F</td>\n",
    "    <td>15kHz</td>\n",
    "  </tr>\n",
    "</table>\n",
    "\n",
    "Se solicita:\n",
    "* 1_ Deduzca la ecuación del error de método, en función de los componentes del circuito\n",
    "* 2_ Si Vi = 1,8562V, determine el error de método, ¿es necesario corregirlo? ¿cuál es el valor corregido?\n",
    "\n"
   ]
  },
  {
   "cell_type": "markdown",
   "id": "4b4afb53",
   "metadata": {},
   "source": [
    "$e_{Mr}=\\frac{V_i-V_v}{V_v}=\\frac{|V_{Zv}|-|V_{TH}|}{|V_{TH}|}=\\frac{|V_{Zv}|}{|V_{TH}|}-1$\n",
    "\n",
    "$Z_v=\\frac{R_v}{j\\omega R_v C_v +1}$\n",
    "\n",
    "$V_{ZV}=\\frac{Z_V}{R_G+Z_V} \\cdot V_{TH}$\n",
    "\n",
    "$\\frac{|V_{Zv}|}{|V_{TH}|}=\\frac{R_G}{R_G+R_V} \\cdot \\frac{1}{\\sqrt{1+(\\omega C_V (R_G // R_V))^2}}$\n",
    "\n",
    "$e_{Mr}=\\frac{R_G}{R_G+R_V} \\cdot \\frac{1}{\\sqrt{1+(\\omega C_V (R_G // R_V))^2}}-1$\n",
    "\n",
    "$\\Delta V_r=\\frac{ \\Delta V}{V_I}=(\\frac{0,05 \\%}{100}+\\frac{2}{168562})=0,5118m$\n",
    "\n",
    "$\\mu_A(V_I)=0$\n",
    "\n",
    "$\\mu_{Br}(V_I)=\\frac{\\Delta V_r}{\\sqrt3}=0,2955m$\n",
    "\n",
    "$\\mu(V_I)=\\sqrt{\\mu^2_B(V_I)}=\\mu_B(V_I)$\n",
    "\n",
    "$\\mu_r(V_I)=\\mu_{Br}(V_I)$\n",
    "\n",
    "$U_r(V_I)=K\\cdot\\mu_r(V_I)=2 \\cdot 0,2955m=0,5910m$\n",
    "\n",
    "$e_{Mr}=\\frac{R_G}{R_G+R_V} \\cdot \\frac{1}{\\sqrt{1+(2\\pi F C_V (R_G // R_V))^2}}-1$\n",
    "\n",
    "$e_{Mr}=0,99940 \\cdot \\frac{1}{\\sqrt{1+(94247,77 470pF 599,64\\Omega)^2}}-1$\n",
    "\n",
    "$e_{Mr}=-0,952369m$\n",
    "\n",
    "Como $\\frac{U_R}{10}=-0,0952369m<|e_{Mr}$\n",
    "\n",
    "Necesito corregir\n",
    "\n",
    "$V_V=\\frac{V_I}{1+e_{Mr}}=\\frac{1,8562V}{1-0,0952369m}=1,856376V$\n",
    "\n",
    "$V_V=1,856376V$\n",
    "\n",
    "\n",
    "\n",
    "\n",
    "\n"
   ]
  },
  {
   "cell_type": "markdown",
   "id": "351b10e0",
   "metadata": {},
   "source": [
    "### Ejercicio 3\n",
    "\n",
    "Se desea determinar la regulación de línea de una fuente switching estimada en 0,25%. Tensión de entrada: 9V a 30V; Tensión de salida: 3,3V.\n",
    "\n",
    "* a_Dibuje el circuito correspondiente y describa el proceso de medición\n",
    "* b_Determinar todos los elementos necesarios para realizar el ensayo, justificando la elección.\n",
    "* c_Hallar el resultado de la medición. ¿El regulador se encuentra dentro de la especificación del fabricante?\n",
    "\n",
    "Voltímetro\n",
    "\n",
    "<table>\n",
    "  <tr>\n",
    "    <td>Tipo</td>\n",
    "    <td>4½ Dígitos</td>\n",
    "  </tr>\n",
    "  <tr>\n",
    "    <td>Rangos</td>\n",
    "    <td>200mV – 2V – 20V</td>\n",
    "  </tr>\n",
    "  <tr>\n",
    "    <td>Error</td>\n",
    "    <td>±(0,05% + 2d)</td>\n",
    "  </tr>\n",
    "  <tr>\n",
    "    <td>Rv</td>\n",
    "    <td>10MΩ</td>\n",
    "  </tr>\n",
    "</table>\n",
    "\n",
    "Mediciones:\n",
    "\n",
    "<table>\n",
    "  <tr>\n",
    "    <td>$V_{1MEDIA}=0,01mV$</td>\n",
    "    <td>$s(V1)=0,06mV$</td>\n",
    "    <td>$N=9$</td>\n",
    "  </tr>\n",
    "  <tr>\n",
    "    <td>$V_{2MEDIA}=8,52mV$</td>\n",
    "    <td>$s(V2)=0,09mV$</td>\n",
    "    <td>$N=9$</td>\n",
    "  </tr>\n",
    "</table>\n"
   ]
  },
  {
   "cell_type": "markdown",
   "id": "73722b57",
   "metadata": {},
   "source": [
    "#### Punto A\n",
    "\n",
    "Circuito:\n",
    "\n",
    "<img src=\"./Ej3.png\" align=\"center\" width=\"500\" /> \n",
    "\n",
    "Descripción del proceso de medición:\n",
    "\n",
    "* Con VL en tensión de trabajo nominal, ajustar VREF (mediante R4 y R2) hasta lograr que la tensión indicada sea cero (en la escala de 200mv).\n",
    "* Llevar VL a la tensión máxima de regulación de línea soportada y tomar la medición.\n",
    "* Llevar VL a la tensión de trabajo nominal y verificar que la indicación vuelva a cero, de lo contrario se descarta la medición"
   ]
  },
  {
   "cell_type": "markdown",
   "id": "427843b4",
   "metadata": {},
   "source": [
    "#### Punto B\n",
    "\n",
    "Elementos:\n",
    "    Vs:3.3v\n",
    "    VR: Utilizamos una bateria alcalina de 9V dado que posee gran establidad\n",
    "    \n",
    "    Dado el multimetro de 4½ digitos en la escala de 200mv tenemos una resolución de 0.01mV \n",
    "    \n",
    "VR:9V\n",
    "\n",
    "Adopto para que no sea muy grande y descargue la bateria ni pequeña para que el ruido afecte. \n",
    "\n",
    "$Ir=100\\mu A$\n",
    "\n",
    "\n",
    "$V_{R2}=2\\cdot \\Delta V_{e}$\n",
    "\n",
    "$\\Delta V_{e}=\\frac{3,3V \\cdot 0,25\\%}{100}=8,25mV$\n",
    "\n",
    "Adopto:\n",
    "\n",
    "$V_{R2}=16,5mV$\n",
    "\n",
    "$R_2=\\frac{V_{R2}}{I_R}=\\frac{16,5mV}{100\\mu A}=165\\Omega=150\\Omega$\n",
    "\n",
    "Con $150\\Omega V_{R2}=15,0mv$\n",
    "\n",
    "$\\Delta V_{R2}=\\frac{V_{R2}}{P_{R2}}=\\frac{15,0mV}{100}=0,150mv$\n",
    "\n",
    "$V_{R1}=9V-(3,3V+7,5mv)=5,6925V$\n",
    "\n",
    "$R_1=\\frac{V_{R1}}{I_R}=\\frac{5,6925V}{100\\mu A}=56K\\Omega$\n",
    "\n",
    "\n",
    "Establezco el valor de $R_4$ que me permite tener la resolución buscada:\n",
    "\n",
    "$0,005mV=\\Delta V_{R4}=\\frac{V_{R4}}{P_{R4}}=\\frac{V_{R4}}{100}$\n",
    "\n",
    "$V_{R4}=0,005mV \\cdot 100=0,5mV$\n",
    "\n",
    "$R_4=\\frac{V_{R4}}{I_R}=5\\Omega$    \n",
    "\n",
    "$V_{R_3}=9V-(V_{R1}+V_{R2}+V_{R4})=3,2425V$\n",
    "\n",
    "$R_3=\\frac{V_{R3}}{I_R}=32,425K\\Omega=33K\\Omega$ \n",
    "\n",
    "#### Punto C       "
   ]
  },
  {
   "cell_type": "markdown",
   "id": "198270ba",
   "metadata": {},
   "source": [
    "### TIPO A"
   ]
  },
  {
   "cell_type": "code",
   "execution_count": 7,
   "id": "462ebd3a",
   "metadata": {},
   "outputs": [
    {
     "name": "stdout",
     "output_type": "stream",
     "text": [
      "ua(V)= 0.024494897427831782 mV\n",
      "ua(V)= 0.03674234614174767 mV\n"
     ]
    }
   ],
   "source": [
    "V1m=0.01\n",
    "SV1=0.06\n",
    "uaV1=SV1/np.sqrt(N)\n",
    "print('ua(V)=',uaV1,'mV') \n",
    "\n",
    "\n",
    "V2m=8.52\n",
    "SV2=0.09\n",
    "uaV2=SV2/np.sqrt(N)\n",
    "print('ua(V)=',uaV2,'mV') \n"
   ]
  },
  {
   "cell_type": "markdown",
   "id": "1554549c",
   "metadata": {},
   "source": [
    "### TIPO B"
   ]
  },
  {
   "cell_type": "code",
   "execution_count": 8,
   "id": "b07a553b",
   "metadata": {},
   "outputs": [
    {
     "name": "stdout",
     "output_type": "stream",
     "text": [
      "ub(V1)= 0.011549892135138465 mV\n",
      "ub(V2)= 0.014006517530540321 mV\n"
     ]
    }
   ],
   "source": [
    "DELTAV1=((0.05/100)+(2/1))*V1m\n",
    "ubV1=(DELTAV1/np.sqrt(3))\n",
    "\n",
    "DELTAV2=((0.05/100)+(2/852))*V2m\n",
    "ubV2=(DELTAV2/np.sqrt(3))\n",
    "print('ub(V1)=',ubV1,'mV') \n",
    "print('ub(V2)=',ubV2,'mV')"
   ]
  },
  {
   "cell_type": "markdown",
   "id": "f0e5ff46",
   "metadata": {},
   "source": [
    "### COMBIANANDO"
   ]
  },
  {
   "cell_type": "code",
   "execution_count": 9,
   "id": "b5c31505",
   "metadata": {},
   "outputs": [
    {
     "name": "stdout",
     "output_type": "stream",
     "text": [
      "uc(V1)= 0.0270813590562463 mV\n",
      "uc(V2)= 0.0393215276068127 mV\n"
     ]
    }
   ],
   "source": [
    "ucV1=np.sqrt(ubV1**2+uaV1**2)\n",
    "ucV2=np.sqrt(ubV2**2+uaV2**2)\n",
    "\n",
    "print('uc(V1)=',ucV1,'mV')\n",
    "print('uc(V2)=',ucV2,'mV')\n"
   ]
  },
  {
   "cell_type": "code",
   "execution_count": 10,
   "id": "f845c21c",
   "metadata": {},
   "outputs": [
    {
     "name": "stdout",
     "output_type": "stream",
     "text": [
      "DeltaV=(8.510±0.095)mV\n",
      "K=2 con el 95,45% de nivel de confianza\n"
     ]
    }
   ],
   "source": [
    "DeltaV=V2m-V1m\n",
    "uDeltaV=np.sqrt(ucV1**2+ucV2**2)\n",
    "UDeltaV=2*uDeltaV\n",
    "print(f\"DeltaV=({DeltaV:.3f}±{UDeltaV.round(3):.3f})mV\")\n",
    "print(\"K=2 con el 95,45% de nivel de confianza\")\n"
   ]
  },
  {
   "cell_type": "markdown",
   "id": "f8f8ab41",
   "metadata": {},
   "source": [
    "El fabricante dice que:\n",
    "\n",
    "$\\Delta V_{e}=\\frac{3,3V \\cdot 0,25\\%}{100}=8,25mV$\n",
    "\n",
    "$\\Delta V_{min}=(8,51-0,095)mV=8,415mV$\n",
    "\n",
    "$\\Delta V_{max}=(8,51+0,095)mV=8,605mV$\n",
    "\n",
    "El dipositivo no cumple con la especificacion"
   ]
  },
  {
   "cell_type": "markdown",
   "id": "16d26d6b",
   "metadata": {},
   "source": [
    "# Ejercicio 4"
   ]
  },
  {
   "cell_type": "markdown",
   "id": "7dc5ea37",
   "metadata": {},
   "source": [
    "Se desea determinar la regulación de carga de una fuente estimada en 50mV con una IMAX = 1.5A, cuya tensión nominal es 5.0V.\n",
    "\n",
    "<img src=\"./4_instrumentos.png\" align=\"center\" width=\"500\" /> \n",
    "\n",
    "\n",
    "* 1_Dibuje el circuito correspondiente y describa el proceso para realizar la medición.\n",
    "* 2_Seleccione el instrumento que utilizará en la medición justificando la elección.\n",
    "* 3_Determinar todos los elementos necesarios para realizar el ensayo.\n",
    "* 4_Si luego de tomar 10 muestras con y sin carga, se obtuvo que V1 = 0,0mV  σ1=0.1mV y V2 = 10,8mV σ2=1.1mV, hallar el resultado de la medición.\n",
    "\n"
   ]
  },
  {
   "cell_type": "markdown",
   "id": "c241f0ba",
   "metadata": {},
   "source": [
    "#### Punto 1\n",
    "\n",
    "<img src=\"./circuito4.png\" align=\"center\" width=\"500\" /> \n",
    "\n",
    "#### Punto 2\n",
    "\n",
    "* Con la llave abierta, ajustar VREF (R_2 y R4) hasta lograr que la tensión indicada sea cero (Setear el voltimetro en la escala de 200mv).\n",
    "* Cerrar la llave y tomar la medición.\n",
    "* Abrir la llave nuevamente y verificar que la indicación vuelva a cero, de lo contrario se descarta la medición\n",
    "\n",
    "#### Punto 3\n",
    "\n",
    "Multímetro A:\n",
    "\n",
    "Resolución: $\\frac{200mV}{20000}=0,01mV$\n",
    "\n",
    "$∆𝑉 =\\frac{𝑒𝑟 \\%}{100}𝑉 + 𝑛·𝑅𝑒𝑠𝑉𝑜𝑙 =\\frac{2}{100}𝑉 + 3·0, 01𝑚𝑉 = 1, 03𝑚𝑉$\n",
    "\n",
    "\n",
    "Multímetro B:\n",
    "\n",
    "Resolución: $\\frac{200mV}{2000}=0,1mV$\n",
    "\n",
    "$∆𝑉 =\\frac{𝑒𝑟 \\%}{100}𝑉 + 𝑛·𝑅𝑒𝑠𝑉𝑜𝑙 =\\frac{0,5}{100}𝑉 + 1·0, 01𝑚𝑉 = 0,35𝑚𝑉$\n",
    "\n",
    "\n",
    "Multímetro C:\n",
    "\n",
    "Resolución: $\\frac{200mV}{2000}=0,1mV$\n",
    "\n",
    "$∆𝑉 =\\frac{𝑒𝑟 \\%}{100}𝑉 + 𝑛·𝑅𝑒𝑠𝑉𝑜𝑙 =\\frac{0,15}{100}𝑉 + 2·0, 1𝑚𝑉 = 0,275𝑚𝑉$\n",
    "\n",
    "\n",
    "Cuentas usando V=50mV. \n",
    "\n",
    "Elijo el multímetro C porque el error % es lo que más pesa\n",
    "\n",
    "#### Punto 4\n",
    "\n",
    "VR:9V\n",
    "\n",
    "Adopto para que no sea muy grande y descargue la bateria ni pequeña para que el ruido afecte. \n",
    "\n",
    "$Ir=100\\mu A$\n",
    "\n",
    "$\\Delta V_s=50mV$\n",
    "\n",
    "$V_{R2}>2\\Delta V_s=100mV$\n",
    "\n",
    "$V_{R2}>\\frac{V_{R2}}{Ir}=\\frac{100mv}{0,1ma}=2K \\Omega$\n",
    "\n",
    "Como la resolución del voltimetro C es de 0,1mv\n",
    "\n",
    "$\\frac{0,1\\frac{mv}{Paso}}{0,1mA}=1\\frac{\\Omega}{paso}$\n",
    "\n",
    "$\\frac{2K\\Omega}{1\\frac{\\Omega}{paso}}=2000 Pasos$\n",
    "\n",
    "$\\frac{2000 pasos \\cdot 3º}{360º}=16,6$ Vueltas adopto un potenciometro de 25 vueltas.\n",
    "\n",
    "$R_1=\\frac{9V-(5V+50mv)}{0,1mA}=\\frac{3,95V}{0,1mA}=39,5K\\Omega => 39K\\Omega$\n",
    "\n",
    "Proponiendo el ajusto gureso en 1V\n",
    "\n",
    "$R_3=\\frac{V_{R3}}{Ir}=\\frac{V_R-V_{R1}-V_{R2}-V_{R4}}{Ir}=\\frac{9V-3,95V-100mv-1V}{0,1mA}=\\frac{3,95V}{0,1mA}=39,5K\\Omega=> 39K\\Omega$\n",
    "\n",
    "$R_{4}=\\frac{V_{R4}}{Ir}=\\frac{1V}{0,1mA}=10K\\Omega$\n",
    "\n",
    "$RL=\\frac{5V}{1,5A}=3,3\\Omega$\n",
    "\n",
    "$P_L=5V\\cdot1,5A=7,5W$\n"
   ]
  },
  {
   "cell_type": "markdown",
   "id": "09db6284",
   "metadata": {},
   "source": [
    "### TIPO A"
   ]
  },
  {
   "cell_type": "code",
   "execution_count": 11,
   "id": "b85d93ad",
   "metadata": {},
   "outputs": [
    {
     "name": "stdout",
     "output_type": "stream",
     "text": [
      "ua(V)= 0.03162277660168379 mV\n",
      "ua(V)= 0.3478505426185217 mV\n"
     ]
    }
   ],
   "source": [
    "N=10\n",
    "V1m=0\n",
    "SV1=0.1\n",
    "uaV1=SV1/np.sqrt(N)\n",
    "print('ua(V)=',uaV1,'mV') \n",
    "\n",
    "V2m=10.8\n",
    "SV2=1.1\n",
    "uaV2=SV2/np.sqrt(N)\n",
    "print('ua(V)=',uaV2,'mV') "
   ]
  },
  {
   "cell_type": "markdown",
   "id": "b0e0e2b1",
   "metadata": {},
   "source": [
    "### TIPO B"
   ]
  },
  {
   "cell_type": "code",
   "execution_count": 12,
   "id": "b6580a49",
   "metadata": {},
   "outputs": [
    {
     "name": "stdout",
     "output_type": "stream",
     "text": [
      "ub(V1)= 0.11547005383792516 mV\n",
      "ub(V2)= 0.12482312819879711 mV\n"
     ]
    }
   ],
   "source": [
    "DELTAV1=(2*0.1)\n",
    "ubV1=(DELTAV1/np.sqrt(3))\n",
    "\n",
    "DELTAV2=((0.15/100)+(2/108))*V2m\n",
    "ubV2=(DELTAV2/np.sqrt(3))\n",
    "print('ub(V1)=',ubV1,'mV') \n",
    "print('ub(V2)=',ubV2,'mV')"
   ]
  },
  {
   "cell_type": "markdown",
   "id": "eb9854dc",
   "metadata": {},
   "source": [
    "### Combinada"
   ]
  },
  {
   "cell_type": "code",
   "execution_count": 13,
   "id": "a8cebd44",
   "metadata": {},
   "outputs": [
    {
     "name": "stdout",
     "output_type": "stream",
     "text": [
      "ucr(V1)= 0.11972189997378647 mv\n",
      "ucr(V2)= 0.3695684149563289 mv\n",
      "U(DeltaV)= 0.7769534005760362 mV\n"
     ]
    }
   ],
   "source": [
    "ucV1=np.sqrt(ubV1**2+uaV1**2)\n",
    "ucV2=np.sqrt(ubV2**2+uaV2**2)\n",
    "DeltaV=V2m-V1m\n",
    "uDeltaV=np.sqrt(ucV1**2+ucV2**2)\n",
    "UDeltaV=2*uDeltaV\n",
    "print('ucr(V1)=',ucV1,'mv')\n",
    "print('ucr(V2)=',ucV2,'mv')\n",
    "print('U(DeltaV)=',UDeltaV,'mV')\n"
   ]
  },
  {
   "cell_type": "code",
   "execution_count": 14,
   "id": "f27fc00e",
   "metadata": {},
   "outputs": [
    {
     "name": "stdout",
     "output_type": "stream",
     "text": [
      "DeltaV=(10.80±0.78)mV\n",
      "K=2 con el 95,45% de nivel de confianza\n"
     ]
    }
   ],
   "source": [
    "print(f\"DeltaV=({DeltaV:.2f}±{UDeltaV.round(2):.2f})mV\")\n",
    "print(\"K=2 con el 95,45% de nivel de confianza\")\n"
   ]
  },
  {
   "cell_type": "markdown",
   "id": "a7e54157",
   "metadata": {},
   "source": [
    "La Regulación es buena menor a 50mV"
   ]
  },
  {
   "cell_type": "markdown",
   "id": "1082f2e0",
   "metadata": {},
   "source": [
    "### Ejercicio 5\n",
    "\n",
    "Se desea calibrar la referencia de tensión de 1 V del laboratorio de Medidas Electrónicas I (calibrador Pioneer) a partir de un banco de pilas patrón de 10V.\n",
    " \n",
    "Datos:\n",
    "·         Patrón primario: Tensión de salida: 10V Exactitud de salida: 0.001% accuracy\n",
    "·         Divisor Kelvin & Varley: Resolución : 1ppm Exactitud: 0.1 ppm\n",
    "·         Calibrador Pioneer 450A: Salida de 1V ±0.05% accuracy\n",
    "·         Voltímetro: Fluke 189\n",
    "\n",
    "\n",
    "<img src=\"./ej5.png\" align=\"center\" width=\"500\" /> \n",
    "\n",
    "* a) En base a las mediciones, informe el resultado final de la calibración y verifique el cumplimiento o no de las especificaciones.\n",
    "* b) Explique el concepto de trazabilidad.\n",
    "* c) Se realizó la medición directa de la salida del Pioneer 450A con el Fluke 189 arrojando los siguientes valores:\n",
    "\n",
    "<img src=\"./ej52.png\" align=\"center\" width=\"500\" /> \n",
    "\n",
    "En base a ellos defina cuál es el valor de la incertidumbre en la calibración del Pioneer 450A y compárelo con el calculado en el punto (a); extraiga conclusiones.\n"
   ]
  },
  {
   "cell_type": "markdown",
   "id": "7458b079",
   "metadata": {},
   "source": [
    "Circuito de medición:\n",
    "\n",
    "<img src=\"./ej5circuito.png\" align=\"center\" width=\"500\" /> \n",
    "\n",
    "Del circuito vemos que:\n",
    "\n",
    "$V_i=V_p \\cdot K - V_x$\n",
    "\n",
    "$V_x=V_p \\cdot K- V_i$"
   ]
  },
  {
   "cell_type": "markdown",
   "id": "aa160a30",
   "metadata": {},
   "source": [
    "### TIPO A"
   ]
  },
  {
   "cell_type": "code",
   "execution_count": 17,
   "id": "b9a28f22",
   "metadata": {},
   "outputs": [],
   "source": [
    "Vpm=10000\n",
    "Km=0.1\n",
    "Vim=30\n",
    "Vxm=Vpm*Km-Vim\n",
    "Vxm\n",
    "\n",
    "uaVi=0.001\n",
    "uaK=0\n",
    "uaVp=0"
   ]
  },
  {
   "cell_type": "markdown",
   "id": "88e12568",
   "metadata": {},
   "source": [
    "### TIPO B"
   ]
  },
  {
   "cell_type": "code",
   "execution_count": 20,
   "id": "a5a7b406",
   "metadata": {},
   "outputs": [
    {
     "name": "stdout",
     "output_type": "stream",
     "text": [
      "ub(Vp)= 0.05773502691896258 mV\n",
      "ub(K)= 5.7735026918962584e-08 -\n",
      "ub(Vi)= 0.028867513459481287 mV\n"
     ]
    }
   ],
   "source": [
    "DeltaVp=(0.001/100)*Vpm\n",
    "ubVp=(DeltaVp/np.sqrt(3))\n",
    "\n",
    "DeltaK=((0.1/(10**6)))\n",
    "ubK=(DeltaK/np.sqrt(3))\n",
    "\n",
    "DeltaVi=((0.1/100)+(20/30000))*Vim\n",
    "ubVi=(DeltaVi/np.sqrt(3))\n",
    "print('ub(Vp)=',ubVp,'mV') \n",
    "print('ub(K)=',ubK,'-')\n",
    "print('ub(Vi)=',ubVi,'mV') "
   ]
  },
  {
   "cell_type": "markdown",
   "id": "c7407fa2",
   "metadata": {},
   "source": [
    "### Combinada"
   ]
  },
  {
   "cell_type": "code",
   "execution_count": 22,
   "id": "04f65e22",
   "metadata": {},
   "outputs": [
    {
     "name": "stdout",
     "output_type": "stream",
     "text": [
      "Vx= 970.0 mV\n"
     ]
    }
   ],
   "source": [
    "ucVp=np.sqrt(ubVp**2+uaVp**2)\n",
    "ucK=np.sqrt(ubK**2+uaK**2)\n",
    "ucVi=np.sqrt(ubVi**2+uaVi**2)\n",
    "Vx=Vpm*Km-Vim\n",
    "print('Vx=',Vx,'mV')\n"
   ]
  },
  {
   "cell_type": "markdown",
   "id": "4e0718a6",
   "metadata": {},
   "source": [
    "$$Vx=Vp \\cdot K - V_i$$\n",
    "\n",
    "$\\frac{\\partial V_x}{\\partial V_p}=K$\n",
    "\n",
    "$\\frac{\\partial V_x}{\\partial K}=V_p$\n",
    "\n",
    "$\\frac{\\partial V_x}{\\partial V_i}=-1$\n",
    "\n",
    "$\\mu(V_x)=\\sqrt{ \\mu(V_p)^2\\cdot\\frac{\\partial V_x}{\\partial V_p}|_{K,V_i}+\\mu(K)^2\\cdot \\frac{\\partial V_x}{\\partial K}|_{V_p,V_i}+\\mu(V_i)^2 \\cdot \\frac{\\partial V_x}{\\partial V_i}|_{V_p,K}}$"
   ]
  },
  {
   "cell_type": "code",
   "execution_count": 23,
   "id": "2a96a077",
   "metadata": {},
   "outputs": [
    {
     "name": "stdout",
     "output_type": "stream",
     "text": [
      "U(DeltaV)= 0.05892367945062493 mV\n"
     ]
    }
   ],
   "source": [
    "uDeltaVx=np.sqrt((Km**2)*(ucVp**2)+(Vpm**2)*(ucK**2)+((-1)**2)*(ucVi**2))\n",
    "UDeltaVx=2*uDeltaVx\n",
    "\n",
    "print('U(DeltaV)=',UDeltaVx,'mV')"
   ]
  },
  {
   "cell_type": "code",
   "execution_count": 24,
   "id": "ea3c4564",
   "metadata": {},
   "outputs": [
    {
     "name": "stdout",
     "output_type": "stream",
     "text": [
      "Vx=(970.000±0.059)mV\n",
      "K=2 con el 95,45% de nivel de confianza\n"
     ]
    }
   ],
   "source": [
    "print(f\"Vx=({Vx:.3f}±{UDeltaVx.round(3):.3f})mV\")\n",
    "print(\"K=2 con el 95,45% de nivel de confianza\")"
   ]
  },
  {
   "cell_type": "markdown",
   "id": "d275b200",
   "metadata": {},
   "source": [
    "De la especificación teniamos por defecto:\n",
    "\n",
    "1V-0.05%=0.9995V=999.5mV\n",
    "\n",
    "De lo medido\n",
    "\n",
    "Vx=(970.000-0.059)mv=0.969,941mV\n",
    "\n",
    "No cumple la especificación"
   ]
  },
  {
   "cell_type": "markdown",
   "id": "15b90f61",
   "metadata": {},
   "source": [
    "### Trazabilidad:\n",
    "\n",
    "La trazabilidad es la cadena que se establece entre los instrumentos de medición desde el patrón hacia los diferentes elementos de medición. De esta forma podemos asegurar que cuando medimos con un instrumento que fue calibrado con un elemento superior en la cadena (y así dicho elemento con el superior, etc), nuestra medición guarda un correlato de medición con el patron primario. Decimos entonces que nuestra medición es trazable con el patron en cuestión.\n",
    "\n",
    "Podemos ver el concepto de trazabilidad representado en un formato de piramide.\n",
    "\n",
    "\n",
    "<img src=\"./piramide.jpg\" align=\"center\" width=\"500\" /> \n"
   ]
  },
  {
   "cell_type": "markdown",
   "id": "cbaee0fc",
   "metadata": {},
   "source": [
    "### Medicion directa\n",
    "\n",
    "### Tipo A"
   ]
  },
  {
   "cell_type": "code",
   "execution_count": 25,
   "id": "f6a3ca17",
   "metadata": {},
   "outputs": [
    {
     "name": "stdout",
     "output_type": "stream",
     "text": [
      "ua(V)= 0.001 mV\n"
     ]
    }
   ],
   "source": [
    "V=1001.5\n",
    "uaV=0.001\n",
    "print('ua(V)=',uaV,'mV') "
   ]
  },
  {
   "cell_type": "markdown",
   "id": "d14ff42d",
   "metadata": {},
   "source": [
    "### Tipo B"
   ]
  },
  {
   "cell_type": "code",
   "execution_count": 26,
   "id": "ddee9db3",
   "metadata": {},
   "outputs": [
    {
     "name": "stdout",
     "output_type": "stream",
     "text": [
      "ub(V)= 0.43322920824316546 mV\n"
     ]
    }
   ],
   "source": [
    "DeltaV=((0.025/100)+(5/10015))*V\n",
    "ubV=(DeltaV/np.sqrt(3))\n",
    "print('ub(V)=',ubV,'mV') "
   ]
  },
  {
   "cell_type": "markdown",
   "id": "55716cb8",
   "metadata": {},
   "source": [
    "### Combinada"
   ]
  },
  {
   "cell_type": "code",
   "execution_count": 27,
   "id": "69794bb7",
   "metadata": {},
   "outputs": [
    {
     "name": "stdout",
     "output_type": "stream",
     "text": [
      "V=(1001.50±0.87)mV\n",
      "K=2 con el 95,45% de nivel de confianza\n"
     ]
    }
   ],
   "source": [
    "ucV=np.sqrt(ubV**2+uaV**2)\n",
    "UV=2*ucV\n",
    "print(f\"V=({V:.2f}±{UV.round(2):.2f})mV\")\n",
    "print(\"K=2 con el 95,45% de nivel de confianza\")"
   ]
  },
  {
   "cell_type": "markdown",
   "id": "959eb9c8",
   "metadata": {},
   "source": [
    "De la especificación:\n",
    "\n",
    "1V-0.05%=0.95V=999.5mV\n",
    "1V+0.05%=1.05V=1000.5 mv\n",
    "\n",
    "Ahora de las nuevas medidas:\n",
    "\n",
    "(1001.50-0.87)mv=1000.63 mv\n",
    "(1001.50+0.87)mv=1002.37 mv\n",
    "\n",
    "Seguimos estando fuera de las especificaciones, pero en la medición directa tenemos una incertidumbre mayor que en la medición de calibración realizada utilizando el metodo diferencial con el patron de 10V y el divisor. En este segundo caso logramos trasladar la incertidumbre (combinada de los elementos en el circuito de medición) y al estos tener menor incertidumbre obtuvimos una calibración mejor."
   ]
  },
  {
   "cell_type": "markdown",
   "id": "61f3868c",
   "metadata": {},
   "source": [
    "### Ejercicio 6\n",
    "\n",
    "Se midieron por comparación una resistencia patrón y una incógnita con un voltímetro digital\n",
    "obteniendo los siguientes resultados:\n",
    "\n",
    "Vp = 0,9863 V y un desvió estándar experimental de 0.05 mV\n",
    "\n",
    "Vx = 1,7588 V y un desvió estándar experimental de 0.05 mV\n",
    "\n",
    "Sabiendo que: Rp= 10MΩ ±0,05% 0,1W Rx≈ 20MΩ 1⁄4W\n",
    "\n",
    "Y el voltímetro tiene las siguientes características: Dígitos: 4 3⁄4 Rv= 10Mohm\n",
    "\n",
    "Error: 40mV ±(0,5%+2d) ; 400mV ±(0,5%+2d) ; 4V ±(0,5%+3d) ; 40V ±(0,5%+3d) ; 400V ±(0,5%+3d)\n",
    "\n",
    "* a) Dibuje el circuito correspondiente\n",
    "* b) Deduzca las ecuaciones que rigen la ecuación planteada\n",
    "* c) Determine el resultado de la medición\n",
    "* d) Critique la medición indicando las modificaciones que realizaría para mejorarla indicando cual es el impacto de los cambios sugeridos.\n"
   ]
  },
  {
   "cell_type": "markdown",
   "id": "d0b290c7",
   "metadata": {},
   "source": [
    "#### Punto A\n",
    "\n",
    "<img src=\"./ej6.png\" align=\"center\" width=\"300\" /> \n",
    "\n",
    "#### Punto B\n",
    "\n",
    "$V_p'=V_s\\frac{Rp//Rv}{(R_p//R_V)+R_s+R_x}$\n",
    "\n",
    "$V_p'=V_s\\frac{\\frac{R_p\\cdot R_v}{R_p+R_v}}{\\frac{R_p\\cdot R_v}{R_p+R_v}+R_s+R_x}$\n",
    "\n",
    "$V_p'=V_s\\frac{R_p\\cdot R_V}{R_P\\cdot R_V+(R_P+R_V)\\cdot(R_S+R_x)}$\n",
    "\n",
    "\n",
    "$V_x'=V_s\\frac{Rx//Rv}{(R_x//R_V)+R_s+R_P}$\n",
    "\n",
    "$V_x'=V_s\\frac{\\frac{R_x\\cdot R_v}{R_x+R_v}}{\\frac{R_p\\cdot R_v}{R_p+R_v}+R_s+R_P}$\n",
    "\n",
    "$V_x'=V_s\\frac{R_x\\cdot R_V}{R_x\\cdot R_V+(R_x+R_V)\\cdot(R_S+R_P)}$\n",
    "\n",
    "$V_p'=0,9863V$\n",
    "\n",
    "$V_x'=1,7588V$\n",
    "\n",
    "$\\frac{V_p}{V_x}=\\frac{V_s\\frac{R_p\\cdot R_V}{R_P\\cdot R_V+(R_P+R_V)\\cdot(R_S+R_x)}}{V_s\\frac{R_x\\cdot R_V}{R_x\\cdot R_V+(R_x+R_V)\\cdot(R_S+R_P)}}$\n",
    "\n",
    "$\\frac{V_p}{V_x}=\\frac{\\frac{R_p}{R_P\\cdot R_V+(R_P+R_V)\\cdot(R_S+R_x)}}{\\frac{R_x}{R_x\\cdot R_V+(R_x+R_V)\\cdot(R_S+R_P)}}$\n",
    "\n",
    "$\\frac{V_p}{V_x}=\\frac{R_x}{R_P}\\cdot \\frac{R_P\\cdot R_V+(R_P+R_V)\\cdot(R_S+R_x)}{R_x\\cdot R_V+(R_x+R_V)\\cdot(R_S+R_P)}$\n",
    "\n",
    "$R_x=\\frac{V_x}{V_p}\\cdot R_p \\cdot \\frac{R_x\\cdot R_V+(R_x+R_V)\\cdot(R_S+R_P)}{R_P\\cdot R_V+(R_P+R_V)\\cdot(R_S+R_x)}$\n",
    "\n",
    "$Rx_i=\\frac{Vx}{Vp}\\cdot Rp$\n",
    "\n",
    "$Rx_i=\\frac{1,7588V}{0,9863V}\\cdot 10M\\Omega=17,8323025449M\\Omega$\n",
    "\n",
    "$Kc=\\frac{R_x\\cdot R_V+(R_x+R_V)\\cdot(R_S+R_P)}{R_P\\cdot R_V+(R_P+R_V)\\cdot(R_S+R_x)}$\n",
    "\n",
    "$Rx=Rx_i Kc$\n",
    "\n",
    "$e{M_r}=\\frac{Rx_i-Rx}{Rx}$\n",
    "\n",
    "$e{M_r}=\\frac{Rp \\frac{Vx}{Vp}-Rp \\frac{Vx}{Vp} Kc}{Rp\\frac{Vx}{Vp}Kc}$\n",
    "\n",
    "$e{M_r}=\\frac{1-Kc}{Kc}=\\frac{1}{Kc}-1$\n",
    "\n",
    "$e{M_r}=\\frac{R_P\\cdot R_V+(R_P+R_V)\\cdot(R_S+R_x)}{R_x\\cdot R_V+(R_x+R_V)\\cdot(R_S+R_P)}-1$\n",
    "\n",
    "No corregimos por error de metodo dado que en los casos prácticos $RS<10\\Omega$ y $Rv>10M\\Omega$ como nuestro caso.\n",
    "\n",
    "\n",
    "#### Punto C\n",
    "\n",
    "$\\mu_r(Rx)=\\sqrt{\\mu_r(Rp)^2+\\mu_r(Vx)^2+\\mu_r(Vp)^2}$\n",
    "\n",
    "$Ur(Rp)=0,05$\n",
    "$\\mu_r(Rp)=Ur(Rp)/2=0,025$\n"
   ]
  },
  {
   "cell_type": "markdown",
   "id": "c7e0f544",
   "metadata": {},
   "source": [
    "### Tipo A"
   ]
  },
  {
   "cell_type": "code",
   "execution_count": 106,
   "id": "30f7fbd1",
   "metadata": {},
   "outputs": [
    {
     "name": "stdout",
     "output_type": "stream",
     "text": [
      "uar(Vx)= 2.8428473959517855e-05\n",
      "uar(Vp)= 5.069451485349286e-05\n"
     ]
    }
   ],
   "source": [
    "Rx=17.8323025449\n",
    "Vx=1.7588\n",
    "Vp=0.9863\n",
    "uarVx=0.05/(1000*Vx)\n",
    "uarVp=0.05/(1000*Vp)\n",
    "print('uar(Vx)=',uarVx) \n",
    "print('uar(Vp)=',uarVp) \n"
   ]
  },
  {
   "cell_type": "markdown",
   "id": "9cb9a370",
   "metadata": {},
   "source": [
    "### Tipo B"
   ]
  },
  {
   "cell_type": "code",
   "execution_count": 107,
   "id": "77049ecf",
   "metadata": {},
   "outputs": [
    {
     "name": "stdout",
     "output_type": "stream",
     "text": [
      "ubr(Vx)= 0.0029852304685071963\n",
      "ubr(Vp)= 0.003062362296730739\n"
     ]
    }
   ],
   "source": [
    "DELTAVx=((0.5/100)+(3/17588))\n",
    "ubrVx=(DELTAVx/np.sqrt(3))\n",
    "DELTAVp=((0.5/100)+(3/9863))\n",
    "ubrVp=(DELTAVp/np.sqrt(3))\n",
    "print('ubr(Vx)=',ubrVx) \n",
    "print('ubr(Vp)=',ubrVp)"
   ]
  },
  {
   "cell_type": "markdown",
   "id": "6dd368ab",
   "metadata": {},
   "source": [
    "### Combinada"
   ]
  },
  {
   "cell_type": "code",
   "execution_count": 108,
   "id": "ffa8b296",
   "metadata": {},
   "outputs": [
    {
     "name": "stdout",
     "output_type": "stream",
     "text": [
      "U(Rx)= 0.15253882054635498 MΩ\n"
     ]
    }
   ],
   "source": [
    "ucrVx=np.sqrt(ubrVx**2+uarVx**2)\n",
    "ucrVp=np.sqrt(ubrVp**2+uarVp**2)\n",
    "urRp=0\n",
    "urRx=np.sqrt(ucrVx**2+ucrVp**2+(urRp)**2)\n",
    "uRx=urRx*Rx\n",
    "URx=2*uRx\n",
    "print('U(Rx)=',URx,'MΩ')"
   ]
  },
  {
   "cell_type": "code",
   "execution_count": 109,
   "id": "f0257102",
   "metadata": {},
   "outputs": [
    {
     "name": "stdout",
     "output_type": "stream",
     "text": [
      "U(Rx)=(17.83±0.15)MΩ\n",
      "K=2 con el 95,45% de nivel de confianza\n"
     ]
    }
   ],
   "source": [
    "print(f\"U(Rx)=({Rx:.2f}±{URx.round(2):.2f})MΩ\")\n",
    "print(\"K=2 con el 95,45% de nivel de confianza\")\n"
   ]
  },
  {
   "cell_type": "markdown",
   "id": "55f01707",
   "metadata": {},
   "source": [
    "#### Punto D\n",
    "\n",
    "En estos casos no se utilizó a fondo de escala el multimetro para que la incertidumbre de las mediciones tenga un impacto menor, para esto propongo aumentar la tensión de fuente a modo de medir a fondo de escala."
   ]
  },
  {
   "cell_type": "markdown",
   "id": "00bb46e4",
   "metadata": {},
   "source": [
    "### Ejercicio 7\n",
    "\n",
    "En un puente universal determine:\n",
    "* a) El circuito correspondiente a la medición de un inductor de bajo factor de merito\n",
    "* b) Describa el proceso de medición\n",
    "* c) Si se opera con una fuente de 10KHz, ¿Cuáles serán los resultados a obtener?\n",
    "* d) ¿Qué diferencia representa materializar un capacitor real en configuración paralelo o configuración serie?\n"
   ]
  },
  {
   "cell_type": "markdown",
   "id": "08939c26",
   "metadata": {},
   "source": [
    "#### Punto A\n",
    "\n",
    "Utilizaria un puente de Maxwell:\n",
    "\n",
    "<img src=\"./puentemaxwell.png\" align=\"center\" width=\"300\" /> \n",
    "\n",
    "#### Punto B\n",
    "\n",
    "Procedimiento para realizar la medición:\n",
    "\n",
    "\n",
    "* 1_Seleccionar el tipo de puente (Maxwell).\n",
    "* 2_Seleccionar el rango adecuado ( R2)\n",
    "* 3_Colocar la sensibilidad del detector al mínimo.\n",
    "* 4_Energizar el puente.\n",
    "* 5_Ajustar el valor del componente (R1) hasta encontrar un mínimo local en el detector. De ser necesario aumentar la sensibilidad del detector.\n",
    "* A_justar el valor del Q (R3) hasta encontrar un mínimo local en el detector. De ser necesario aumentar la sensibilidad del detector.\n",
    "* 7_Repetir los pasos 5 y 6 hasta lograr el cero en el detector en la con la mayor sensibilidad posible.\n",
    "\n",
    "#### Punto C\n",
    "\n",
    "$Q_x=\\frac{f_x}{f_0}\\cdot Q_i=\\frac{10KHz}{1KHz}\\cdot Q_i=10Q_i$\n",
    "\n",
    "$Q_x=\\frac{\\omega L_x}{R_x}=10 \\cdot \\omega \\cdot R_1 \\cdot  C_1$\n",
    "\n",
    "$\\frac{\\omega L_x}{\\frac{R_2 \\cdot R_3}{R_1}}=10\\cdot \\omega \\cdot R_1 \\cdot \\ C_1$\n",
    "\n",
    "$L_x=10\\cdot R_2 \\cdot R_3 \\cdot C_1 =10 \\cdot L_x$\n",
    "\n",
    "La inductancia se multipla por $\\frac{f_x}{f_0}$ en esta caso 10\n",
    "\n",
    "\n",
    "#### Punto D\n",
    "\n",
    "$Z_s=R_s+\\frac{1}{j\\omega C_s}$\n",
    "\n",
    "$Q_s=\\frac{1}{\\omega R_s C_s}$\n",
    "\n",
    "$Zp=\\frac{1}{\\frac{1}{R_p}+j\\omega C_p}$\n",
    "\n",
    "$Q_p=\\omega C_p R_p$\n",
    "\n",
    "$$Z_s=Z_p$$\n",
    "\n",
    "$R_s=\\frac{1}{j\\omega C_s}=\\frac{1}{\\frac{1}{R_p}+j\\omega C_p}$\n",
    "\n",
    "$(R_s+\\frac{1}{j\\omega C_s})\\cdot(\\frac{1}{R_p}+j\\omega C_p)=1$\n",
    "\n",
    "$\\frac{R_s}{R_p}+j\\omega C_p R_s+\\frac{1}{j\\omega C_s R_p}+\\frac{j\\omega C_p}{j\\omega C_s}=1$\n",
    "\n",
    "Igualando parte real y parte imaginaria:\n",
    "\n",
    "De la parte imaginaria:\n",
    "\n",
    "$\\omega C_p R_s=\\frac{1}{\\omega C_s R_p}$\n",
    "\n",
    "$\\omega C_p R_p=\\frac{1}{\\omega C_s R_s}$\n",
    "\n",
    "$$Q_s=Q_p$$\n",
    "\n",
    "De la parte real:\n",
    "\n",
    "$\\frac{R_s}{R_p}+\\frac{C_p}{C_s}=1$\n",
    "\n",
    "$\\frac{\\frac{1}{Q\\omega C_s}}{\\frac{Q}{\\omega C_p}}+\\frac{C_p}{C_s}=1$\n",
    "\n",
    "$\\frac{C_p}{C_s}(\\frac{1}{Q^2}+1)=1$\n",
    "\n",
    "$$C_s=C_p(\\frac{1}{Q^2}+1)$$\n",
    "\n",
    "Conclusión: para pasar de un Sauty Paralelo a un Sauty Serie, el $C_x$ va a depender del Q. Si por ejemplo el Q = 1, $C_S = C_P$ y el capacitor no cambia. Si Q tiende a infinito, entonces $C_S=2C_P$\n"
   ]
  }
 ],
 "metadata": {
  "kernelspec": {
   "display_name": "Python 3",
   "language": "python",
   "name": "python3"
  },
  "language_info": {
   "codemirror_mode": {
    "name": "ipython",
    "version": 3
   },
   "file_extension": ".py",
   "mimetype": "text/x-python",
   "name": "python",
   "nbconvert_exporter": "python",
   "pygments_lexer": "ipython3",
   "version": "3.8.8"
  }
 },
 "nbformat": 4,
 "nbformat_minor": 5
}
