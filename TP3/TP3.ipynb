{
 "cells": [
  {
   "cell_type": "markdown",
   "id": "4eb8c76b",
   "metadata": {},
   "source": [
    "\n",
    "\n",
    "<img src=\"./logo_UTN.svg\" align=\"right\" width=\"150\" /> \n",
    " Medidas Electrónica I\n",
    "\n",
    "# Ejercicios de métodos de medición\n",
    "#### Israel Pavelek \n",
    "\n",
    "Prof: Ing. Perdomo Juan\n",
    "\n",
    "Ayudante: Ing. Franco Zaccra\n"
   ]
  },
  {
   "cell_type": "markdown",
   "id": "92dd9981",
   "metadata": {},
   "source": [
    "### Ejercicio 1\n",
    "\n",
    "Se midió una resistencia con un voltimetro y  una fuente de corriente de 1A ±0,1% y RS = 1MΩ, obteniéndose los siguientes datos: \n",
    "\n",
    "VOLTÍMETRO\n",
    "\n",
    "<table>\n",
    "  <tr>\n",
    "    <td>Dígitos</td>\n",
    "    <td>4,1/2</td>\n",
    "  </tr>\n",
    "  <tr>\n",
    "    <td>Rangos</td>\n",
    "    <td>50mV; 500mV, 5V, 50V, 500V y 1000V</td>\n",
    "  </tr>\n",
    "  <tr>\n",
    "    <td>Error</td>\n",
    "    <td>±(0,025% + 2d)</td>\n",
    "  </tr>\n",
    "  <tr>\n",
    "    <td>Ri</td>\n",
    "    <td>10MΩ</td>\n",
    "  </tr>\n",
    "  <tr>\n",
    "    <td>Indicaciones</td>\n",
    "    <td>48,329mV - 48,327mV - 48,346mV - 48,318mV - 48,323mV - 48,321mV</td>\n",
    "  </tr>\n",
    "</table>\n",
    "\n",
    "Se solicita:\n",
    "* 1_Determine el valor de la resistencia y su incertidumbre.\n",
    "* 2_Determine el error de método cometido e indique si es necesario corregirlo\n",
    "\n",
    "\n"
   ]
  },
  {
   "cell_type": "code",
   "execution_count": 41,
   "id": "11c58d2a",
   "metadata": {},
   "outputs": [
    {
     "name": "stdout",
     "output_type": "stream",
     "text": [
      "Vm= 48.327333333333335 mV\n",
      "Rm= 48.327333333333335 mΩ\n",
      "S(V)= 0.009973297682645094 mV\n",
      "ua(V)= 0.004071581729227066 mV\n"
     ]
    }
   ],
   "source": [
    "import numpy as np\n",
    "from sympy import Derivative, diff, simplify, symbols,S\n",
    "import statistics\n",
    "\n",
    "Im=1\n",
    "V=[48.329,48.327,48.346,48.318,48.323,48.321]\n",
    "N=len(V)\n",
    "Vm=np.mean(V)\n",
    "Rm=Vm/(Im)\n",
    "SV=statistics.stdev(V)\n",
    "uaV=SV/np.sqrt(N)\n",
    "print('Vm=',Vm,'mV') \n",
    "print('Rm=',Rm,'mΩ') \n",
    "print('S(V)=',SV,'mV') \n",
    "print('ua(V)=',uaV,'mV') "
   ]
  },
  {
   "cell_type": "markdown",
   "id": "45e4de65",
   "metadata": {},
   "source": [
    "### TIPO B"
   ]
  },
  {
   "cell_type": "code",
   "execution_count": 42,
   "id": "3a5208b2",
   "metadata": {},
   "outputs": [
    {
     "name": "stdout",
     "output_type": "stream",
     "text": [
      "ub(V)= 0.008130158230179058 mV\n",
      "ub(I)= 0.0005773502691896258 A\n"
     ]
    }
   ],
   "source": [
    "DELTAV=((0.025/100)+(2/48327))*Vm\n",
    "ubV=(DELTAV/np.sqrt(3))\n",
    "DELTAI=(0.1/100)*Im\n",
    "ubI=(DELTAI/np.sqrt(3))\n",
    "print('ub(V)=',ubV,'mV') \n",
    "print('ub(I)=',ubI,'A')\n"
   ]
  },
  {
   "cell_type": "markdown",
   "id": "058f7324",
   "metadata": {},
   "source": [
    "### Combinando"
   ]
  },
  {
   "cell_type": "code",
   "execution_count": 43,
   "id": "97d02f7c",
   "metadata": {},
   "outputs": [
    {
     "name": "stdout",
     "output_type": "stream",
     "text": [
      "ucr(V)= 0.00018814824915159458\n",
      "ucr(I)= 0.0005773502691896258\n",
      "ucr(R)= 0.0006072339721986443\n",
      "uc(R)= 0.02934599858576795 mΩ\n"
     ]
    }
   ],
   "source": [
    "ucV=np.sqrt(ubV**2+uaV**2)\n",
    "ucVr=ucV/Vm\n",
    "ucI=ubI\n",
    "ucIr=ucI/Im\n",
    "ucRr=np.sqrt(ucVr**2+ucIr**2)\n",
    "ucR=ucRr*Rm\n",
    "print('ucr(V)=',ucVr)\n",
    "print('ucr(I)=',ucIr)\n",
    "print('ucr(R)=',ucRr)\n",
    "print('uc(R)=',ucR,'mΩ')\n",
    "\n",
    "\n"
   ]
  },
  {
   "cell_type": "code",
   "execution_count": 44,
   "id": "6ba6c17a",
   "metadata": {},
   "outputs": [
    {
     "name": "stdout",
     "output_type": "stream",
     "text": [
      "U= 0.0586919971715359 mΩ\n"
     ]
    }
   ],
   "source": [
    "K=2\n",
    "U=ucR*K\n",
    "print(\"U=\",U,'mΩ')"
   ]
  },
  {
   "cell_type": "code",
   "execution_count": 48,
   "id": "758c89de",
   "metadata": {},
   "outputs": [
    {
     "name": "stdout",
     "output_type": "stream",
     "text": [
      "R=(48.327±0.059)mΩ\n"
     ]
    }
   ],
   "source": [
    "print(f\"R=({Rm:.3f}±{U.round(3):.3f})mΩ\")"
   ]
  },
  {
   "cell_type": "markdown",
   "id": "292c0d5a",
   "metadata": {},
   "source": [
    "K=2 con el 95,45% de nivel de confianza"
   ]
  },
  {
   "cell_type": "markdown",
   "id": "b7f2298e",
   "metadata": {},
   "source": [
    "Para el punto 2, veamos el circuito de medición:\n",
    "\n",
    "<img src=\"./Ej1em.png\" align=\"center\" width=\"500\" /> \n",
    "\n",
    "Donde V es la tensión que efectivamente mediría el voltímetro.\n",
    "\n",
    "En este caso la corriente que entregaría la fuente de 1A sería repartida, en principio por RS y RV ademas de la R que estamos queriendo medir.\n",
    "\n",
    "$$em_r=\\frac{Ri-Rv}{Rv}$$\n",
    "\n",
    "$$em_r=\\frac{Ri}{Rv}-1$$\n",
    "\n",
    "$Ri=\\frac{Vi}{Ig}$\n",
    "\n",
    "Llamamos Rp al paralelo de Rv y Rs\n",
    "\n",
    "$em_r=\\frac{\\frac{Vi}{Ig}}{\\frac{Vi}{\\frac{Rp}{Rp+Ri}\\cdot Ig}}-1$\n",
    "\n",
    "$em_r=\\frac{1}{\\frac{Rp+Ri}{Rp}}-1$\n",
    "\n",
    "$em_r=\\frac{Rp}{Rp+Ri}-1$\n",
    "\n",
    "$em_r=\\frac{Rp-Rp-Ri}{Rp+Ri}$\n",
    "\n",
    "$$em_r=\\frac{-Ri}{Rp+Ri}$$\n",
    "\n",
    "$$em_r=\\frac{-\\frac{Vi}{Ig}}{Rp+\\frac{Vi}{Ig}}$$\n",
    "\n",
    "$$em_r=\\frac{-\\frac{Vi}{Ig}}{Rp+\\frac{Vi}{Ig}}$$\n",
    "\n",
    "Reemplazando:\n",
    "\n",
    "Rp=1MΩ//10MΩ=909.09KΩ\n",
    "\n",
    "$$em_r=\\frac{-48.327m\\Omega}{909.09K\\Omega+48.327m\\Omega}=53.16n$$\n",
    "\n",
    "\n",
    "Dado que $10\\cdot em_r<U(R)$\n",
    "\n",
    "No es necesario corregir.\n",
    "\n",
    "\n",
    "\n",
    "\n",
    "\n",
    "\n",
    "\n",
    "\n"
   ]
  },
  {
   "cell_type": "markdown",
   "id": "83d49da3",
   "metadata": {},
   "source": [
    "### Ejercicio 2"
   ]
  }
 ],
 "metadata": {
  "kernelspec": {
   "display_name": "Python 3",
   "language": "python",
   "name": "python3"
  },
  "language_info": {
   "codemirror_mode": {
    "name": "ipython",
    "version": 3
   },
   "file_extension": ".py",
   "mimetype": "text/x-python",
   "name": "python",
   "nbconvert_exporter": "python",
   "pygments_lexer": "ipython3",
   "version": "3.8.8"
  }
 },
 "nbformat": 4,
 "nbformat_minor": 5
}
