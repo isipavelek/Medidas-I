{
 "cells": [
  {
   "cell_type": "markdown",
   "metadata": {},
   "source": [
    "\n",
    "\n",
    "<img src=\"./logo_UTN.svg\" align=\"right\" width=\"150\" /> \n",
    " Medidas Electrónica I\n",
    "\n",
    "# Ejercicios Calculo de Incertidumbre\n",
    "#### Israel Pavelek \n",
    "Prof: Perdomo Juan\n"
   ]
  },
  {
   "cell_type": "markdown",
   "metadata": {},
   "source": [
    "Ejercicio 4:"
   ]
  },
  {
   "cell_type": "code",
   "execution_count": 1,
   "metadata": {},
   "outputs": [
    {
     "name": "stdout",
     "output_type": "stream",
     "text": [
      "V1m= 2.0224 V\n",
      "I1m= 0.5416000000000001 A\n",
      "R1m= 3.734121122599704\n",
      "S(V1)= 0.002190890230020636 V\n",
      "S(I1)= 0.0023021728866442696 A\n",
      "ua(V1)= 0.0009797958971132583 V\n",
      "ua(I1)= 0.0010295630140987008 A\n"
     ]
    }
   ],
   "source": [
    "import numpy as np\n",
    "from sympy import Derivative, diff, simplify, symbols,S\n",
    "import statistics\n",
    "\n",
    "\n",
    "\n",
    "\n",
    "V1=[2.021,2.023,2.026,2.021,2.021]\n",
    "I1=[0.541,0.542,0.544,0.543,0.538]\n",
    "N=len(V1)\n",
    "V1m=np.mean(V1)\n",
    "I1m=np.mean(I1)\n",
    "R1m=V1m/I1m\n",
    "SV1=statistics.stdev(V1)\n",
    "SI1=statistics.stdev(I1)\n",
    "uaV1=SV1/np.sqrt(N)\n",
    "uaI1=SI1/np.sqrt(N)\n",
    "print('V1m=',V1m,'V') \n",
    "print('I1m=',I1m,'A') \n",
    "print('R1m=',R1m) \n",
    "print('S(V1)=',SV1,'V') \n",
    "print('S(I1)=',SI1,'A') \n",
    "print('ua(V1)=',uaV1,'V') \n",
    "print('ua(I1)=',uaI1,'A')\n"
   ]
  },
  {
   "cell_type": "markdown",
   "metadata": {},
   "source": [
    "## Tipo B"
   ]
  },
  {
   "cell_type": "code",
   "execution_count": 2,
   "metadata": {},
   "outputs": [
    {
     "name": "stdout",
     "output_type": "stream",
     "text": [
      "0.011112197823936699\n",
      "0.008419327171903883\n",
      "ub(V1)= 0.006415630404938227 V\n",
      "ub(I1)= 0.004860900809094237 A\n"
     ]
    }
   ],
   "source": [
    "DELTAV1=((0.5/100)+(1/2022))*V1m\n",
    "ubV1=(DELTAV1/np.sqrt(3))\n",
    "DELTAI1=(1/100+3/541)*I1m\n",
    "ubI1=(DELTAI1/np.sqrt(3))\n",
    "print(DELTAV1)\n",
    "print(DELTAI1)\n",
    "print('ub(V1)=',ubV1,'V') \n",
    "print('ub(I1)=',ubI1,'A')\n"
   ]
  },
  {
   "cell_type": "markdown",
   "metadata": {},
   "source": [
    "## Combinando\n"
   ]
  },
  {
   "cell_type": "code",
   "execution_count": 3,
   "metadata": {},
   "outputs": [
    {
     "name": "stdout",
     "output_type": "stream",
     "text": [
      "uc(V1)= 0.006490016447804106 V\n",
      "uc(I1)= 0.004968737935920248 A\n",
      "Correlacion(V1,I1)= 0.63\n"
     ]
    }
   ],
   "source": [
    "ucV1=np.sqrt(ubV1**2+uaV1**2)\n",
    "ucI1=np.sqrt(ubI1**2+uaI1**2)\n",
    "corre=0.63\n",
    "print('uc(V1)=',ucV1,'V')\n",
    "print('uc(I1)=',ucI1,'A')\n",
    "print('Correlacion(V1,I1)=',corre)\n",
    "V1v = symbols('V1')\n",
    "I1v = symbols('I1')\n",
    "Rv = V1v/I1v\n",
    "\n",
    "\n"
   ]
  },
  {
   "cell_type": "markdown",
   "metadata": {},
   "source": [
    "$ \\frac{\\partial{R}}{\\partial{V1}} = $"
   ]
  },
  {
   "cell_type": "code",
   "execution_count": 4,
   "metadata": {},
   "outputs": [
    {
     "data": {
      "text/latex": [
       "$\\displaystyle \\frac{1}{I_{1}}$"
      ],
      "text/plain": [
       "1/I1"
      ]
     },
     "execution_count": 4,
     "metadata": {},
     "output_type": "execute_result"
    }
   ],
   "source": [
    "dRV1 = Derivative(Rv, V1v,1).doit()\n",
    "dRV1=simplify(dRV1)\n",
    "dRV1"
   ]
  },
  {
   "cell_type": "markdown",
   "metadata": {},
   "source": [
    "$ \\frac{\\partial{R}}{\\partial{I1}} = $"
   ]
  },
  {
   "cell_type": "code",
   "execution_count": 5,
   "metadata": {},
   "outputs": [
    {
     "data": {
      "text/latex": [
       "$\\displaystyle - \\frac{V_{1}}{I_{1}^{2}}$"
      ],
      "text/plain": [
       "-V1/I1**2"
      ]
     },
     "execution_count": 5,
     "metadata": {},
     "output_type": "execute_result"
    }
   ],
   "source": [
    "dRI1 = Derivative(Rv, I1v,1).doit()\n",
    "dRI1=simplify(dRI1)\n",
    "dRI1"
   ]
  },
  {
   "cell_type": "code",
   "execution_count": 6,
   "metadata": {},
   "outputs": [
    {
     "name": "stdout",
     "output_type": "stream",
     "text": [
      "dRV1= 1.8463810930576068 1/A\n",
      "dRI1= -6.894610639955141 Ω/A\n"
     ]
    }
   ],
   "source": [
    "dRV1c=1/I1m\n",
    "dRI1c=-(V1m/(I1m**2))\n",
    "print('dRV1=',dRV1c,'1/A')\n",
    "print('dRI1=',dRI1c,'Ω/A')\n",
    "\n"
   ]
  },
  {
   "cell_type": "code",
   "execution_count": 7,
   "metadata": {},
   "outputs": [
    {
     "name": "stdout",
     "output_type": "stream",
     "text": [
      "0.02828301381689276\n"
     ]
    }
   ],
   "source": [
    "uR1=np.sqrt((dRV1c**2)*(ucV1**2)+(dRI1c**2)*(ucI1**2)+2*dRV1c*dRI1c*ucV1*ucI1*corre)\n",
    "print(uR1)"
   ]
  },
  {
   "cell_type": "code",
   "execution_count": 8,
   "metadata": {},
   "outputs": [
    {
     "name": "stdout",
     "output_type": "stream",
     "text": [
      "0.05656602763378552\n"
     ]
    }
   ],
   "source": [
    "K=2\n",
    "U=uR1*K\n",
    "print(U)"
   ]
  },
  {
   "cell_type": "code",
   "execution_count": 9,
   "metadata": {},
   "outputs": [
    {
     "name": "stdout",
     "output_type": "stream",
     "text": [
      "R1n=(3.734±0.057)Ω\n"
     ]
    }
   ],
   "source": [
    "U=U.round(3)\n",
    "\n",
    "print(f\"R1n=({R1m:.3f}±{U:.3f})Ω\")"
   ]
  },
  {
   "cell_type": "markdown",
   "metadata": {},
   "source": [
    "K=2 con el 95,45% de nivel de confianza"
   ]
  },
  {
   "cell_type": "code",
   "execution_count": null,
   "metadata": {},
   "outputs": [],
   "source": []
  }
 ],
 "metadata": {
  "kernelspec": {
   "display_name": "Python 3",
   "language": "python",
   "name": "python3"
  },
  "language_info": {
   "codemirror_mode": {
    "name": "ipython",
    "version": 3
   },
   "file_extension": ".py",
   "mimetype": "text/x-python",
   "name": "python",
   "nbconvert_exporter": "python",
   "pygments_lexer": "ipython3",
   "version": "3.8.5"
  }
 },
 "nbformat": 4,
 "nbformat_minor": 4
}
