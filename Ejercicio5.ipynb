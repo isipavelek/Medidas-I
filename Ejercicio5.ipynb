{
 "cells": [
  {
   "cell_type": "markdown",
   "metadata": {},
   "source": [
    "\n",
    "\n",
    "<img src=\"./logo_UTN.svg\" align=\"right\" width=\"150\" /> \n",
    " Medidas Electrónica I\n",
    "\n",
    "# Ejercicios Calculo de Incertidumbre\n",
    "#### Israel Pavelek \n",
    "Prof: Perdomo Juan\n"
   ]
  },
  {
   "cell_type": "markdown",
   "metadata": {},
   "source": [
    "Ejercicio 5:"
   ]
  },
  {
   "cell_type": "code",
   "execution_count": 1,
   "metadata": {},
   "outputs": [
    {
     "ename": "NameError",
     "evalue": "name 'RGn' is not defined",
     "output_type": "error",
     "traceback": [
      "\u001b[1;31m---------------------------------------------------------------------------\u001b[0m",
      "\u001b[1;31mNameError\u001b[0m                                 Traceback (most recent call last)",
      "\u001b[1;32m<ipython-input-1-5701fd57f471>\u001b[0m in \u001b[0;36m<module>\u001b[1;34m\u001b[0m\n\u001b[0;32m     13\u001b[0m \u001b[0mKh\u001b[0m\u001b[1;33m=\u001b[0m\u001b[1;36m9.810\u001b[0m \u001b[1;31m#Kpa/m\u001b[0m\u001b[1;33m\u001b[0m\u001b[1;33m\u001b[0m\u001b[0m\n\u001b[0;32m     14\u001b[0m \u001b[0mS\u001b[0m\u001b[1;33m=\u001b[0m\u001b[1;36m0.4\u001b[0m\u001b[1;33m*\u001b[0m\u001b[1;36m10\u001b[0m\u001b[1;33m**\u001b[0m\u001b[1;33m(\u001b[0m\u001b[1;33m-\u001b[0m\u001b[1;36m3\u001b[0m\u001b[1;33m)\u001b[0m \u001b[1;31m#v/Kpa\u001b[0m\u001b[1;33m\u001b[0m\u001b[1;33m\u001b[0m\u001b[0m\n\u001b[1;32m---> 15\u001b[1;33m \u001b[0mAv\u001b[0m\u001b[1;33m=\u001b[0m\u001b[1;33m(\u001b[0m\u001b[1;36m1\u001b[0m\u001b[1;33m+\u001b[0m\u001b[1;33m(\u001b[0m\u001b[1;36m50\u001b[0m\u001b[1;33m*\u001b[0m\u001b[1;36m10\u001b[0m\u001b[1;33m**\u001b[0m\u001b[1;36m3\u001b[0m\u001b[1;33m)\u001b[0m\u001b[1;33m/\u001b[0m\u001b[0mRGn\u001b[0m\u001b[1;33m)\u001b[0m\u001b[1;33m\u001b[0m\u001b[1;33m\u001b[0m\u001b[0m\n\u001b[0m\u001b[0;32m     16\u001b[0m \u001b[0mVom\u001b[0m\u001b[1;33m=\u001b[0m\u001b[1;33m(\u001b[0m\u001b[0mH1m\u001b[0m\u001b[1;33m-\u001b[0m\u001b[0mH0m\u001b[0m\u001b[1;33m)\u001b[0m\u001b[1;33m*\u001b[0m\u001b[0mKh\u001b[0m\u001b[1;33m*\u001b[0m\u001b[0mS\u001b[0m\u001b[1;33m*\u001b[0m\u001b[0mAv\u001b[0m\u001b[1;33m\u001b[0m\u001b[1;33m\u001b[0m\u001b[0m\n\u001b[0;32m     17\u001b[0m \u001b[0mSH0\u001b[0m\u001b[1;33m=\u001b[0m\u001b[0mstatistics\u001b[0m\u001b[1;33m.\u001b[0m\u001b[0mstdev\u001b[0m\u001b[1;33m(\u001b[0m\u001b[0mH0\u001b[0m\u001b[1;33m)\u001b[0m\u001b[1;33m\u001b[0m\u001b[1;33m\u001b[0m\u001b[0m\n",
      "\u001b[1;31mNameError\u001b[0m: name 'RGn' is not defined"
     ]
    }
   ],
   "source": [
    "import numpy as np\n",
    "from sympy import Derivative, diff, simplify, symbols,S\n",
    "import statistics\n",
    "\n",
    "\n",
    "H0=[0.145,0.123,0.145,0.145,0.143]\n",
    "H1=[4.525,4.524,4.521,4.553,4.551]\n",
    "RG=[10.1,11.1,11.2,12.1,11.2]\n",
    "N=len(H0)\n",
    "H0m=np.mean(H0)\n",
    "H1m=np.mean(H1)\n",
    "RGm=np.mean(RG)\n",
    "Kh=9.810 #Kpa/m\n",
    "S=0.4*10**(-3) #v/Kpa\n",
    "Av=(1+(50*10**3)/RGn)\n",
    "Vom=(H1m-H0m)*Kh*S*Av\n",
    "SH0=statistics.stdev(H0)\n",
    "SH1=statistics.stdev(H1)\n",
    "SRG=statistics.stdev(RG)\n",
    "uaH0=SH0/np.sqrt(N)\n",
    "uaH1=SH1/np.sqrt(N)\n",
    "uaRG=SRG/np.sqrt(N)\n",
    "print('H0m=',H0m,'m') \n",
    "print('H1m=',H1m,'m') \n",
    "print('RGm=',RGm,'Ω') \n",
    "print('Vom=',Vom,'V') \n",
    "print('S(H0)=',SH0,'m') \n",
    "print('S(H1)=',SH1,'m') \n",
    "print('S(RG)=',SRG,'Ω') \n",
    "print('ua(H0)=',uaH0,'m') \n",
    "print('ua(H1)=',uaH1,'m')\n",
    "print('ua(RG)=',uaRG,'Ω')\n"
   ]
  },
  {
   "cell_type": "markdown",
   "metadata": {},
   "source": [
    "## Tipo B"
   ]
  },
  {
   "cell_type": "code",
   "execution_count": null,
   "metadata": {},
   "outputs": [],
   "source": [
    "DELTAH0=(0.3/100)*H0m\n",
    "ubH0=(DELTAH0/np.sqrt(3))\n",
    "DELTAH1=(0.3/100)*H1m\n",
    "ubH1=(DELTAH1/np.sqrt(3))\n",
    "DELTARG=(0.5/100+2/111)*RGm\n",
    "ubRG=(DELTARG/np.sqrt(3))\n",
    "ubS=(((3.75/100)*4*10**(-4))/np.sqrt(3))\n",
    "print(DELTAH0)\n",
    "print(DELTAH1)\n",
    "print(DELTARG)\n",
    "print('ub(H0)=',ubH0,'m') \n",
    "print('ub(H1)=',ubH1,'m')\n",
    "print('ub(RG)=',ubRG,'Ω')\n",
    "print('ub(S)=',ubS,'v/Kpa')\n",
    "\n"
   ]
  },
  {
   "cell_type": "markdown",
   "metadata": {},
   "source": [
    "## Combinando\n"
   ]
  },
  {
   "cell_type": "code",
   "execution_count": null,
   "metadata": {},
   "outputs": [],
   "source": [
    "ucH0=np.sqrt(ubH0**2+uaH0**2)\n",
    "ucH1=np.sqrt(ubH1**2+uaH1**2)\n",
    "ucRG=np.sqrt(ubRG**2+uaRG**2)\n",
    "corre=0\n",
    "print('uc(H0)=',ucH0,'m')\n",
    "print('uc(H1)=',ucH1,'m')\n",
    "print('uc(RG)=',ucRG,'Ω')\n",
    "#print('Correlacion(V1,I1)=',corre)\n",
    "H0v = symbols('H0')\n",
    "H1v = symbols('H1')\n",
    "RGv = symbols('RG')\n",
    "Sv = symbols('S')\n",
    "Vov = (H1v-H0v)*Kh*Sv*(1+(50*10**3)/RGv)\n",
    "\n",
    "\n"
   ]
  },
  {
   "cell_type": "markdown",
   "metadata": {},
   "source": [
    "$ \\frac{\\partial{Vo}}{\\partial{H1}} = $"
   ]
  },
  {
   "cell_type": "code",
   "execution_count": null,
   "metadata": {},
   "outputs": [],
   "source": [
    "dVoH0 = Derivative(Vov, H0v,1).doit()\n",
    "dVoH0=simplify(dVoH0)\n",
    "dVoH0"
   ]
  },
  {
   "cell_type": "markdown",
   "metadata": {},
   "source": [
    "$ \\frac{\\partial{Vo}}{\\partial{H0}} = $"
   ]
  },
  {
   "cell_type": "code",
   "execution_count": null,
   "metadata": {},
   "outputs": [],
   "source": [
    "dVoH1 = Derivative(Vov, H1v,1).doit()\n",
    "dVoH1=simplify(dVoH1)\n",
    "dVoH1"
   ]
  },
  {
   "cell_type": "markdown",
   "metadata": {},
   "source": [
    "$ \\frac{\\partial{Vo}}{\\partial{RG}} = $"
   ]
  },
  {
   "cell_type": "code",
   "execution_count": null,
   "metadata": {},
   "outputs": [],
   "source": [
    "dVoRG = Derivative(Vov, RGv,1).doit()\n",
    "dVoRG=simplify(dVoRG)\n",
    "dVoRG"
   ]
  },
  {
   "cell_type": "markdown",
   "metadata": {},
   "source": [
    "$ \\frac{\\partial{Vo}}{\\partial{S}} = $"
   ]
  },
  {
   "cell_type": "code",
   "execution_count": null,
   "metadata": {},
   "outputs": [],
   "source": [
    "dVoS = Derivative(Vov, Sv,1).doit()\n",
    "dVoS=simplify(dVoS)\n",
    "dVoS"
   ]
  },
  {
   "cell_type": "code",
   "execution_count": null,
   "metadata": {},
   "outputs": [],
   "source": [
    "dVoH0c=(-9.81*S*(RGm+50000))/RGm\n",
    "dVoH1c=(9.81*S*(RGm+50000))/RGm\n",
    "dVoRGc=(490500*S*(H0m-H1m))/(RGm**2)\n",
    "dVoSc=(-9.81*(H0m-H1m)*(RGm+50000))/RGm\n",
    "print('dVoH0=',dVoH0c,'V/m')\n",
    "print('dVoH1=',dVoH1c,'V/m')\n",
    "print('dVoRG=',dVoRGc,'V/Ω')\n",
    "print('dVoS=',dVoSc,'Kpa')\n",
    "\n"
   ]
  },
  {
   "cell_type": "code",
   "execution_count": null,
   "metadata": {},
   "outputs": [],
   "source": [
    "uVo=np.sqrt((dVoH0c**2)*(ucH0**2)+(dVoH1c**2)*(ucH1**2)+(dVoRGc**2)*(ucRG**2)+(dVoSc**2)*(ubS**2))\n",
    "print(uVo)"
   ]
  },
  {
   "cell_type": "code",
   "execution_count": null,
   "metadata": {},
   "outputs": [],
   "source": [
    "K=2\n",
    "U=uVo*K\n",
    "print(U)"
   ]
  },
  {
   "cell_type": "code",
   "execution_count": null,
   "metadata": {},
   "outputs": [],
   "source": [
    "U=U.round(1)\n",
    "print(f\"Vo=({Vom:.1f}±{U:.1f})V\")"
   ]
  },
  {
   "cell_type": "markdown",
   "metadata": {},
   "source": [
    "K=2 con el 95,45% de nivel de confianza"
   ]
  },
  {
   "cell_type": "code",
   "execution_count": null,
   "metadata": {},
   "outputs": [],
   "source": []
  }
 ],
 "metadata": {
  "kernelspec": {
   "display_name": "Python 3",
   "language": "python",
   "name": "python3"
  },
  "language_info": {
   "codemirror_mode": {
    "name": "ipython",
    "version": 3
   },
   "file_extension": ".py",
   "mimetype": "text/x-python",
   "name": "python",
   "nbconvert_exporter": "python",
   "pygments_lexer": "ipython3",
   "version": "3.8.5"
  }
 },
 "nbformat": 4,
 "nbformat_minor": 4
}
