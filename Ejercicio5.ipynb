{
 "cells": [
  {
   "cell_type": "markdown",
   "metadata": {},
   "source": [
    "\n",
    "\n",
    "<img src=\"./logo_UTN.svg\" align=\"right\" width=\"150\" /> \n",
    " Medidas Electrónica I\n",
    "\n",
    "# Ejercicios Calculo de Incertidumbre\n",
    "#### Israel Pavelek \n",
    "Prof: Perdomo Juan\n"
   ]
  },
  {
   "cell_type": "markdown",
   "metadata": {},
   "source": [
    "Ejercicio 5:"
   ]
  },
  {
   "cell_type": "code",
   "execution_count": 1,
   "metadata": {},
   "outputs": [
    {
     "name": "stdout",
     "output_type": "stream",
     "text": [
      "H0m= 0.14020000000000002 m\n",
      "H1m= 4.5348 m\n",
      "RGm= 11.14 Ω\n",
      "Vom= 77.41585482332638 V\n",
      "S(H0)= 0.009654014708917733 m\n",
      "S(H1)= 0.015786069808536876 m\n",
      "S(RG)= 0.7092249290598858 Ω\n",
      "ua(H0)= 0.004317406628984579 m\n",
      "ua(H1)= 0.007059745037889109 m\n",
      "ua(RG)= 0.3171750305430741 Ω\n"
     ]
    }
   ],
   "source": [
    "import numpy as np\n",
    "from sympy import Derivative, diff, simplify, symbols,S\n",
    "import statistics\n",
    "\n",
    "\n",
    "H0=[0.145,0.123,0.145,0.145,0.143]\n",
    "H1=[4.525,4.524,4.521,4.553,4.551]\n",
    "RG=[10.1,11.1,11.2,12.1,11.2]\n",
    "N=len(H0)\n",
    "H0m=np.mean(H0)\n",
    "H1m=np.mean(H1)\n",
    "RGm=np.mean(RG)\n",
    "Kh=9.810 #Kpa/m\n",
    "S=0.4*10**(-3) #v/Kpa\n",
    "Av=(1+(50*10**3)/RGm)\n",
    "Vom=(H1m-H0m)*Kh*S*Av\n",
    "SH0=statistics.stdev(H0)\n",
    "SH1=statistics.stdev(H1)\n",
    "SRG=statistics.stdev(RG)\n",
    "uaH0=SH0/np.sqrt(N)\n",
    "uaH1=SH1/np.sqrt(N)\n",
    "uaRG=SRG/np.sqrt(N)\n",
    "print('H0m=',H0m,'m') \n",
    "print('H1m=',H1m,'m') \n",
    "print('RGm=',RGm,'Ω') \n",
    "print('Vom=',Vom,'V') \n",
    "print('S(H0)=',SH0,'m') \n",
    "print('S(H1)=',SH1,'m') \n",
    "print('S(RG)=',SRG,'Ω') \n",
    "print('ua(H0)=',uaH0,'m') \n",
    "print('ua(H1)=',uaH1,'m')\n",
    "print('ua(RG)=',uaRG,'Ω')\n"
   ]
  },
  {
   "cell_type": "markdown",
   "metadata": {},
   "source": [
    "## Tipo B"
   ]
  },
  {
   "cell_type": "code",
   "execution_count": 2,
   "metadata": {},
   "outputs": [
    {
     "name": "stdout",
     "output_type": "stream",
     "text": [
      "0.0004206000000000001\n",
      "0.013604399999999999\n",
      "0.25642072072072075\n",
      "ub(H0)= 0.00024283352322115667 m\n",
      "ub(H1)= 0.007854504002163344 m\n",
      "ub(RG)= 0.14804457213390598 Ω\n",
      "ub(S)= 8.660254037844387e-06 v/Kpa\n"
     ]
    }
   ],
   "source": [
    "DELTAH0=(0.3/100)*H0m\n",
    "ubH0=(DELTAH0/np.sqrt(3))\n",
    "DELTAH1=(0.3/100)*H1m\n",
    "ubH1=(DELTAH1/np.sqrt(3))\n",
    "DELTARG=(0.5/100+2/111)*RGm\n",
    "ubRG=(DELTARG/np.sqrt(3))\n",
    "ubS=(((3.75/100)*4*10**(-4))/np.sqrt(3))\n",
    "print(DELTAH0)\n",
    "print(DELTAH1)\n",
    "print(DELTARG)\n",
    "print('ub(H0)=',ubH0,'m') \n",
    "print('ub(H1)=',ubH1,'m')\n",
    "print('ub(RG)=',ubRG,'Ω')\n",
    "print('ub(S)=',ubS,'v/Kpa')\n",
    "\n"
   ]
  },
  {
   "cell_type": "markdown",
   "metadata": {},
   "source": [
    "## Combinando\n"
   ]
  },
  {
   "cell_type": "code",
   "execution_count": 3,
   "metadata": {},
   "outputs": [
    {
     "name": "stdout",
     "output_type": "stream",
     "text": [
      "uc(H0)= 0.004324230350016057 m\n",
      "uc(H1)= 0.010560929557572093 m\n",
      "uc(RG)= 0.3500245639070368 Ω\n"
     ]
    }
   ],
   "source": [
    "ucH0=np.sqrt(ubH0**2+uaH0**2)\n",
    "ucH1=np.sqrt(ubH1**2+uaH1**2)\n",
    "ucRG=np.sqrt(ubRG**2+uaRG**2)\n",
    "corre=0\n",
    "print('uc(H0)=',ucH0,'m')\n",
    "print('uc(H1)=',ucH1,'m')\n",
    "print('uc(RG)=',ucRG,'Ω')\n",
    "#print('Correlacion(V1,I1)=',corre)\n",
    "H0v = symbols('H0')\n",
    "H1v = symbols('H1')\n",
    "RGv = symbols('RG')\n",
    "Sv = symbols('S')\n",
    "Vov = (H1v-H0v)*Kh*Sv*(1+(50*10**3)/RGv)\n",
    "\n",
    "\n"
   ]
  },
  {
   "cell_type": "markdown",
   "metadata": {},
   "source": [
    "$ \\frac{\\partial{Vo}}{\\partial{H1}} = $"
   ]
  },
  {
   "cell_type": "code",
   "execution_count": 4,
   "metadata": {},
   "outputs": [
    {
     "data": {
      "text/latex": [
       "$\\displaystyle - \\frac{9.81 S \\left(RG + 50000\\right)}{RG}$"
      ],
      "text/plain": [
       "-9.81*S*(RG + 50000)/RG"
      ]
     },
     "execution_count": 4,
     "metadata": {},
     "output_type": "execute_result"
    }
   ],
   "source": [
    "dVoH0 = Derivative(Vov, H0v,1).doit()\n",
    "dVoH0=simplify(dVoH0)\n",
    "dVoH0"
   ]
  },
  {
   "cell_type": "markdown",
   "metadata": {},
   "source": [
    "$ \\frac{\\partial{Vo}}{\\partial{H0}} = $"
   ]
  },
  {
   "cell_type": "code",
   "execution_count": 5,
   "metadata": {},
   "outputs": [
    {
     "data": {
      "text/latex": [
       "$\\displaystyle \\frac{9.81 S \\left(RG + 50000\\right)}{RG}$"
      ],
      "text/plain": [
       "9.81*S*(RG + 50000)/RG"
      ]
     },
     "execution_count": 5,
     "metadata": {},
     "output_type": "execute_result"
    }
   ],
   "source": [
    "dVoH1 = Derivative(Vov, H1v,1).doit()\n",
    "dVoH1=simplify(dVoH1)\n",
    "dVoH1"
   ]
  },
  {
   "cell_type": "markdown",
   "metadata": {},
   "source": [
    "$ \\frac{\\partial{Vo}}{\\partial{RG}} = $"
   ]
  },
  {
   "cell_type": "code",
   "execution_count": 6,
   "metadata": {},
   "outputs": [
    {
     "data": {
      "text/latex": [
       "$\\displaystyle \\frac{490500.0 S \\left(H_{0} - H_{1}\\right)}{RG^{2}}$"
      ],
      "text/plain": [
       "490500.0*S*(H0 - H1)/RG**2"
      ]
     },
     "execution_count": 6,
     "metadata": {},
     "output_type": "execute_result"
    }
   ],
   "source": [
    "dVoRG = Derivative(Vov, RGv,1).doit()\n",
    "dVoRG=simplify(dVoRG)\n",
    "dVoRG"
   ]
  },
  {
   "cell_type": "markdown",
   "metadata": {},
   "source": [
    "$ \\frac{\\partial{Vo}}{\\partial{S}} = $"
   ]
  },
  {
   "cell_type": "code",
   "execution_count": 7,
   "metadata": {},
   "outputs": [
    {
     "data": {
      "text/latex": [
       "$\\displaystyle - \\frac{9.81 \\left(H_{0} - H_{1}\\right) \\left(RG + 50000\\right)}{RG}$"
      ],
      "text/plain": [
       "-9.81*(H0 - H1)*(RG + 50000)/RG"
      ]
     },
     "execution_count": 7,
     "metadata": {},
     "output_type": "execute_result"
    }
   ],
   "source": [
    "dVoS = Derivative(Vov, Sv,1).doit()\n",
    "dVoS=simplify(dVoS)\n",
    "dVoS"
   ]
  },
  {
   "cell_type": "code",
   "execution_count": 8,
   "metadata": {},
   "outputs": [
    {
     "name": "stdout",
     "output_type": "stream",
     "text": [
      "dVoH0= -17.616132258527827 V/m\n",
      "dVoH1= 17.616132258527827 V/m\n",
      "dVoRG= -6.9478106295266056 V/Ω\n",
      "dVoS= 193539.63705831594 Kpa\n"
     ]
    }
   ],
   "source": [
    "dVoH0c=(-9.81*S*(RGm+50000))/RGm\n",
    "dVoH1c=(9.81*S*(RGm+50000))/RGm\n",
    "dVoRGc=(490500*S*(H0m-H1m))/(RGm**2)\n",
    "dVoSc=(-9.81*(H0m-H1m)*(RGm+50000))/RGm\n",
    "print('dVoH0=',dVoH0c,'V/m')\n",
    "print('dVoH1=',dVoH1c,'V/m')\n",
    "print('dVoRG=',dVoRGc,'V/Ω')\n",
    "print('dVoS=',dVoSc,'Kpa')\n",
    "\n"
   ]
  },
  {
   "cell_type": "code",
   "execution_count": 9,
   "metadata": {},
   "outputs": [
    {
     "name": "stdout",
     "output_type": "stream",
     "text": [
      "2.960387303766174\n"
     ]
    }
   ],
   "source": [
    "uVo=np.sqrt((dVoH0c**2)*(ucH0**2)+(dVoH1c**2)*(ucH1**2)+(dVoRGc**2)*(ucRG**2)+(dVoSc**2)*(ubS**2))\n",
    "print(uVo)"
   ]
  },
  {
   "cell_type": "code",
   "execution_count": 10,
   "metadata": {},
   "outputs": [
    {
     "name": "stdout",
     "output_type": "stream",
     "text": [
      "5.920774607532348\n"
     ]
    }
   ],
   "source": [
    "K=2\n",
    "U=uVo*K\n",
    "print(U)"
   ]
  },
  {
   "cell_type": "code",
   "execution_count": 11,
   "metadata": {},
   "outputs": [
    {
     "name": "stdout",
     "output_type": "stream",
     "text": [
      "Vo=(77.4±5.9)V\n"
     ]
    }
   ],
   "source": [
    "U=U.round(1)\n",
    "print(f\"Vo=({Vom:.1f}±{U:.1f})V\")"
   ]
  },
  {
   "cell_type": "markdown",
   "metadata": {},
   "source": [
    "K=2 con el 95,45% de nivel de confianza"
   ]
  },
  {
   "cell_type": "code",
   "execution_count": null,
   "metadata": {},
   "outputs": [],
   "source": []
  }
 ],
 "metadata": {
  "kernelspec": {
   "display_name": "Python 3",
   "language": "python",
   "name": "python3"
  },
  "language_info": {
   "codemirror_mode": {
    "name": "ipython",
    "version": 3
   },
   "file_extension": ".py",
   "mimetype": "text/x-python",
   "name": "python",
   "nbconvert_exporter": "python",
   "pygments_lexer": "ipython3",
   "version": "3.8.8"
  }
 },
 "nbformat": 4,
 "nbformat_minor": 4
}
